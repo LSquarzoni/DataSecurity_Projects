{
 "cells": [
  {
   "attachments": {},
   "cell_type": "markdown",
   "metadata": {},
   "source": [
    "# **Assignment 1 _ Lorenzo Squarzoni**"
   ]
  },
  {
   "attachments": {},
   "cell_type": "markdown",
   "metadata": {},
   "source": [
    "# Substitution Ciphers"
   ]
  },
  {
   "attachments": {},
   "cell_type": "markdown",
   "metadata": {},
   "source": [
    "**Substitution ciphers** are one possible type of encrypction applicable to any plain text; in particular, as the name suggests, they are implemented with a more or less simple substitution of one character with a different one, always with the same relation, extended to every possible character of the alphabet (or more). This kind of cipher has more than one realization: there are, for example, Ceasar ciphers and Simple Substitution ciphers, as we'll see more in detail."
   ]
  },
  {
   "cell_type": "code",
   "execution_count": 79,
   "metadata": {},
   "outputs": [],
   "source": [
    "import numpy as np \n",
    "import matplotlib.pyplot as plt \n",
    "import string\n",
    "import pickle\n",
    "import math\n",
    "import enchant"
   ]
  },
  {
   "cell_type": "code",
   "execution_count": 80,
   "metadata": {},
   "outputs": [],
   "source": [
    "def generate_alphabet():\n",
    "    \n",
    "    '''\n",
    "    Generate the English alphabet.\n",
    "    Parameters\n",
    "    ----------\n",
    "    None\n",
    "\n",
    "    Return\n",
    "    ------\n",
    "    tuple,\n",
    "        a tuple of English letters\n",
    "       \n",
    "    '''\n",
    "    \n",
    "    letters = string.ascii_lowercase\n",
    "    letters = [letter for letter in letters]\n",
    "    letters = tuple(letters)\n",
    "    \n",
    "    return letters"
   ]
  },
  {
   "cell_type": "code",
   "execution_count": 81,
   "metadata": {},
   "outputs": [],
   "source": [
    "def left_shift(tuple, shift):\n",
    "\n",
    "    '''\n",
    "    Shifts to the left the elements of the given tuple by a quantity equal to shift.\n",
    "    Parameters\n",
    "    ----------\n",
    "    tuple: tuple,\n",
    "    \n",
    "    shift: int,\n",
    "        entity of the shift\n",
    "\n",
    "    Return\n",
    "    ------\n",
    "    tuple,\n",
    "        the tuple that has been shifted\n",
    "       \n",
    "    '''\n",
    "\n",
    "    length = len(tuple)\n",
    "    if length != 0:\n",
    "        shift = shift % length\n",
    "    else:\n",
    "        return tuple()\n",
    "    return tuple[shift:] + tuple[0:shift]"
   ]
  },
  {
   "attachments": {},
   "cell_type": "markdown",
   "metadata": {},
   "source": [
    "## Caesar Cipher"
   ]
  },
  {
   "attachments": {},
   "cell_type": "markdown",
   "metadata": {},
   "source": [
    "The first and easiest type of Substituition cipher is called **Ceasar cipher**: in this case, the substitution is performed simply shifting by a particular offset the letters of the used alphabet."
   ]
  },
  {
   "attachments": {},
   "cell_type": "markdown",
   "metadata": {},
   "source": [
    "Since the total number of possible values for the offset is equal to the cardinality of the alphabet set (in English is 26), it's straightforward to understand how easy it is to break this type of encryption: with a **brute force** approach, which consists on trying all possible encodings, any computer can rapidly find the solution, just knowing the cipher text."
   ]
  },
  {
   "attachments": {},
   "cell_type": "markdown",
   "metadata": {},
   "source": [
    "### Decoder"
   ]
  },
  {
   "attachments": {},
   "cell_type": "markdown",
   "metadata": {},
   "source": [
    "Once given the entity of the shifting process, what we need to do in order to decode our cipher is the following: we apply the shift to the alphabet tuple, creating a second tuple with the same number of elements; then we need to scroll through the cipher text, letter by letter, and replace each one of them with the corresponding letter of the correct English alphabet, using the index taken by the second tuple and retrieving the correct letter from the first one."
   ]
  },
  {
   "cell_type": "code",
   "execution_count": 82,
   "metadata": {},
   "outputs": [],
   "source": [
    "def caesar_decoding(ciphertext, shift=0):\n",
    "    \n",
    "    alphabet = generate_alphabet()\n",
    "    encoded_alphabet = left_shift(alphabet, shift) # Creates the shifted alphabet\n",
    "    plaintext = \"\"\n",
    "\n",
    "    for character in ciphertext:\n",
    "        if character.lower() in alphabet: # Checks whether the character is a letter or not\n",
    "            for i, letter in enumerate(encoded_alphabet):\n",
    "                if (letter == character.lower()):\n",
    "                    plaintext += alphabet[i] # We append the new decoded letter to the plain text\n",
    "        else:\n",
    "            plaintext += character # If the character is not a letter, we append it directly as it is\n",
    "\n",
    "    return plaintext"
   ]
  },
  {
   "cell_type": "code",
   "execution_count": 83,
   "metadata": {},
   "outputs": [
    {
     "name": "stdout",
     "output_type": "stream",
     "text": [
      "lipps! -> hello!\n"
     ]
    }
   ],
   "source": [
    "# code snippet to test the implementation of the decoder\n",
    "ciphertext = 'lipps!' # 'hello!' encoded with shift=4\n",
    "plaintext = caesar_decoding(ciphertext, shift=4)\n",
    "\n",
    "print(ciphertext, '->', plaintext)"
   ]
  },
  {
   "attachments": {},
   "cell_type": "markdown",
   "metadata": {},
   "source": [
    "### Ciphertext"
   ]
  },
  {
   "cell_type": "code",
   "execution_count": 84,
   "metadata": {},
   "outputs": [],
   "source": [
    "# Load ciphertext\n",
    "file_path = 'ciphertext_caesar.txt'\n",
    "with open(file=file_path, mode='r') as f:\n",
    "    cipher_ceasar = f.read()"
   ]
  },
  {
   "attachments": {},
   "cell_type": "markdown",
   "metadata": {},
   "source": [
    "### Brute Force"
   ]
  },
  {
   "attachments": {},
   "cell_type": "markdown",
   "metadata": {},
   "source": [
    "To execute a brute force attack we firstly need to find the key, which in this case is the offset; to discover the offset we can use a trial and error approach, trying to put different numbers to the shift value untill we get something readable as a plain text. This procedure could also be implemented with an authomatic algorithm."
   ]
  },
  {
   "cell_type": "code",
   "execution_count": 85,
   "metadata": {},
   "outputs": [
    {
     "name": "stdout",
     "output_type": "stream",
     "text": [
      "qfmdhcufodvm, cf qfmdhczcum 0\n",
      "pelcgbtencul, be pelcgbybtl 1\n",
      "odkbfasdmbtk, ad odkbfaxask 2\n",
      "ncjaezrclasj, zc ncjaezwzrj 3\n",
      "mbizdyqbkzri, yb mbizdyvyqi 4\n",
      "lahycxpajyqh, xa lahycxuxph 5\n",
      "kzgxbwozixpg, wz kzgxbwtwog 6\n",
      "jyfwavnyhwof, vy jyfwavsvnf 7\n",
      "ixevzumxgvne, ux ixevzurume 8\n",
      "hwduytlwfumd, tw hwduytqtld 9\n",
      "gvctxskvetlc, sv gvctxspskc 10\n",
      "fubswrjudskb, ru fubswrorjb 11\n",
      "etarvqitcrja, qt etarvqnqia 12\n",
      "dszquphsbqiz, ps dszqupmphz 13\n",
      "cryptography, or cryptology 14\n",
      "bqxosnfqzogx, nq bqxosnknfx 15\n",
      "apwnrmepynfw, mp apwnrmjmew 16\n",
      "zovmqldoxmev, lo zovmqlildv 17\n",
      "ynulpkcnwldu, kn ynulpkhkcu 18\n",
      "xmtkojbmvkct, jm xmtkojgjbt 19\n",
      "wlsjnialujbs, il wlsjnifias 20\n",
      "vkrimhzktiar, hk vkrimhehzr 21\n",
      "ujqhlgyjshzq, gj ujqhlgdgyq 22\n",
      "tipgkfxirgyp, fi tipgkfcfxp 23\n",
      "shofjewhqfxo, eh shofjebewo 24\n",
      "rgneidvgpewn, dg rgneidadvn 25\n"
     ]
    }
   ],
   "source": [
    "# Perform a Brute Force attack\n",
    "alphabet = generate_alphabet()\n",
    "\n",
    "for number in range(len(alphabet)): # We apply every possible value and print every output's first characters\n",
    "    plain = caesar_decoding(cipher_ceasar, shift=number)\n",
    "    print(plain[:27], number)"
   ]
  },
  {
   "attachments": {},
   "cell_type": "markdown",
   "metadata": {},
   "source": [
    "In this case, reading the output, we get that the key is 14. \n",
    "\n",
    "Of course this isn't an efficient way to do this!\n",
    "I propose a couple of ways to do this procedure authomatically at the end of the notebook."
   ]
  },
  {
   "cell_type": "code",
   "execution_count": 86,
   "metadata": {},
   "outputs": [
    {
     "name": "stdout",
     "output_type": "stream",
     "text": [
      "The key is: 14\n",
      "cryptography, or cryptology (from ancient greek: κρυπτός, romanized: kryptós \"hidden, secret\"; and γράφειν graphein, \"to write\", or -λογία -logia, \"study\", respectively), is the practice and study of techniques for secure communication in the presence of third parties called adversaries. more generally, cryptography is about constructing and analyzing protocols that prevent third parties or the public from reading private messages; various aspects in information security such as data confidentiality, data integrity, authentication, and non-repudiation are central to modern cryptography. modern cryptography exists at the intersection of the disciplines of mathematics, computer science, electrical engineering, communication science, and physics. applications of cryptography include electronic commerce, chip-based payment cards, digital currencies, computer passwords, and military communications.\n",
      "cryptography prior to the modern age was effectively synonymous with encryption, converting information from a readable state to unintelligible nonsense. the sender of an encrypted message shares the decoding technique only with intended recipients to preclude access from adversaries. the cryptography literature often uses the names alice (\"a\") for the sender, bob (\"b\") for the intended recipient, and eve (\"eavesdropper\") for the adversary. since the development of rotor cipher machines in world war i and the advent of computers in world war ii, cryptography methods have become increasingly complex and its applications more varied.\n",
      "modern cryptography is heavily based on mathematical theory and computer science practice; cryptographic algorithms are designed around computational hardness assumptions, making such algorithms hard to break in actual practice by any adversary. while it is theoretically possible to break into a well-designed such system, it is infeasible in actual practice to do so. such schemes, if well designed, are therefore termed \"computationally secure\"; theoretical advances, e.g., improvements in integer factorization algorithms, and faster computing technology require these designs to be continually reevaluated, and if necessary, adapted. there exist information-theoretically secure schemes that provably cannot be broken even with unlimited computing power, such as the one-time pad, but these schemes are much more difficult to use in practice than the best theoretically breakable but computationally secure schemes.\n",
      "the growth of cryptographic technology has raised a number of legal issues in the information age. cryptography's potential for use as a tool for espionage and sedition has led many governments to classify it as a weapon and to limit or even prohibit its use and export. in some jurisdictions where the use of cryptography is legal, laws permit investigators to compel the disclosure of encryption keys for documents relevant to an investigation. cryptography also plays a major role in digital rights management and copyright infringement disputes in regard to digital media.\n",
      "\n",
      "\n",
      "== terminology ==\n",
      "\n",
      "the first use of the term cryptograph (as opposed to cryptogram) dates back to the 19th century—originating from the gold-bug, a story by edgar allan poe.until modern times, cryptography referred almost exclusively to encryption, which is the process of converting ordinary information (called plaintext) into unintelligible form (called ciphertext). decryption is the reverse, in other words, moving from the unintelligible ciphertext back to plaintext. a cipher (or cypher) is a pair of algorithms that carry out the encryption and the reversing decryption. the detailed operation of a cipher is controlled both by the algorithm and, in each instance, by a \"key\". the key is a secret (ideally known only to the communicants), usually a string of characters (ideally short so it can be remembered by the user), which is needed to decrypt the ciphertext.  in formal mathematical terms, a \"cryptosystem\" is the ordered list of elements of finite possible plaintexts, finite possible cyphertexts, finite possible keys, and the encryption and decryption algorithms which correspond to each key.  keys are important both formally and in actual practice, as ciphers without variable keys can be trivially broken with only the knowledge of the cipher used and are therefore useless (or even counter-productive) for most purposes.\n",
      "historically, ciphers were often used directly for encryption or decryption without additional procedures such as authentication or integrity checks. there are, generally, two kinds of cryptosystems: symmetric and asymmetric. in symmetric systems, the only ones known until the 1970s, the same key (the secret key) is used to encrypt and decrypt a message. data manipulation in symmetric systems is faster than asymmetric systems in part because they generally use shorter key lengths. asymmetric systems use a \"public key\" to encrypt a message and a related \"private key\" to decrypt it. use of asymmetric systems enhances the security of communication, largely because the relation between the two keys is very hard to discover. examples of asymmetric systems include rsa (rivest–shamir–adleman), and ecc (elliptic curve cryptography). quality symmetric algorithms include the commonly used aes (advanced encryption standard) which replaced the older des (data encryption standard).  not very high quality symmetric algorithms include the assorted children's language tangling schemes such as pig latin or other cant, and indeed effectively all cryptographic schemes, however seriously intended, from any source prior to the invention of the one-time pad early in the 20th century. \n",
      "in colloquial use, the term \"code\" is often used to mean any method of encryption or concealment of meaning. however, in cryptography, code has a more specific meaning: the replacement of a unit of plaintext (i.e., a meaningful word or phrase) with a code word (for example, \"wallaby\" replaces \"attack at dawn\").  a cypher, in contrast, is a scheme for changing or substituting an element below such a level (a letter, or a syllable or a pair of letters or ...) in order to produce a cyphertext.\n",
      "cryptanalysis is the term used for the study of methods for obtaining the meaning of encrypted information without access to the key normally required to do so; i.e., it is the study of how to \"crack\" encryption algorithms or their implementations.\n",
      "some use the terms cryptography and cryptology interchangeably in english, while others (including us military practice generally) use cryptography to refer specifically to the use and practice of cryptographic techniques and cryptology to refer to the combined study of cryptography and cryptanalysis. english is more flexible than several other languages in which cryptology (done by cryptologists) is always used in the second sense above. rfc 2828 advises that steganography is sometimes included in cryptology.the study of characteristics of languages that have some application in cryptography or cryptology (e.g. frequency data, letter combinations, universal patterns, etc.) is called cryptolinguistics.\n",
      "\n",
      "\n",
      "== history of cryptography and cryptanalysis ==\n",
      "\n",
      "before the modern era, cryptography focused on message confidentiality (i.e., encryption)—conversion of messages from a comprehensible form into an incomprehensible one and back again at the other end, rendering it unreadable by interceptors or eavesdroppers without secret knowledge (namely the key needed for decryption of that message). encryption attempted to ensure secrecy in communications, such as those of spies, military leaders, and diplomats. in recent decades, the field has expanded beyond confidentiality concerns to include techniques for message integrity checking, sender/receiver identity authentication, digital signatures, interactive proofs and secure computation, among others.\n",
      "\n",
      "\n",
      "=== classic cryptography ===\n",
      "\n",
      "the main classical cipher types are transposition ciphers, which rearrange the order of letters in a message (e.g., 'hello world' becomes 'ehlol owrdl' in a trivially simple rearrangement scheme), and substitution ciphers, which systematically replace letters or groups of letters with other letters or groups of letters (e.g., 'fly at once' becomes 'gmz bu podf' by replacing each letter with the one following it in the latin alphabet). simple versions of either have never offered much confidentiality from enterprising opponents. an early substitution cipher was the caesar cipher, in which each letter in the plaintext was replaced by a letter some fixed number of positions further down the alphabet. suetonius reports that julius caesar used it with a shift of three to communicate with his generals. atbash is an example of an early hebrew cipher. the earliest known use of cryptography is some carved ciphertext on stone in egypt (ca 1900 bce), but this may have been done for the amusement of literate observers rather than as a way of concealing information.\n",
      "the greeks of classical times are said to have known of ciphers (e.g., the scytale transposition cipher claimed to have been used by the spartan military). steganography (i.e., hiding even the existence of a message so as to keep it confidential) was also first developed in ancient times. an early example, from herodotus, was a message tattooed on a slave's shaved head and concealed under the regrown hair. more modern examples of steganography include the use of invisible ink, microdots, and digital watermarks to conceal information.\n",
      "in india, the 2000-year-old kamasutra of vātsyāyana speaks of two different kinds of ciphers called kautiliyam and mulavediya. in the kautiliyam, the cipher letter substitutions are based on phonetic relations, such as vowels becoming consonants. in the mulavediya, the cipher alphabet consists of pairing letters and using the reciprocal ones.in sassanid persia, there were two secret scripts, according to the muslim author ibn al-nadim: the šāh-dabīrīya (literally \"king's script\") which was used for official correspondence, and the rāz-saharīya which was used to communicate secret messages with other countries.david kahn notes in the codebreakers that modern cryptology originated among the arabs, the first people to systematically document cryptanalytic methods. al-khalil (717–786) wrote the book of cryptographic messages, which contains the first use of permutations and combinations to list all possible arabic words with and without vowels.\n",
      "\n",
      "ciphertexts produced by a classical cipher (and some modern ciphers) will reveal statistical information about the plaintext, and that information can often be used to break the cipher. after the discovery of frequency analysis, by the arab mathematician and polymath al-kindi (also known as alkindus) in the 9th century, nearly all such ciphers could be broken by an informed attacker. such classical ciphers still enjoy popularity today, though mostly as puzzles. al-kindi wrote a book on cryptography entitled risalah fi istikhraj al-mu'amma (manuscript for the deciphering cryptographic messages), which described the first known use of frequency analysis and cryptanalysis techniques. an important contribution of ibn adlan (1187–1268) was on sample size for use of frequency analysis.\n",
      "\n",
      "language letter frequencies may offer little help for some extended historical encryption techniques such as homophonic cipher that tend to flatten the frequency distribution. for those ciphers, language letter group (or n-gram) frequencies may provide an attack.\n",
      "essentially all ciphers remained vulnerable to cryptanalysis using the frequency analysis technique until the development of the polyalphabetic cipher. while it was known to al-kindi to some extent, it was first clearly described in the work of al-qalqashandi (1355–1418), based on the earlier work of ibn al-durayhim (1312–1359), describing a polyalphabetic cipher in which each plaintext letter is assigned more than one substitute. it was later also described by leon battista alberti around the year 1467, though there is some indication that  alberti's method was to use different ciphers (i.e., substitution alphabets) for various parts of a message (perhaps for each successive plaintext letter at the limit). he also invented what was probably the first automatic cipher device, a wheel which implemented a partial realization of his invention. in the vigenère cipher, a polyalphabetic cipher, encryption uses a key word, which controls letter substitution depending on which letter of the key word is used. in the mid-19th century charles babbage showed that the vigenère cipher was vulnerable to kasiski examination, but this was first published about ten years later by friedrich kasiski.although frequency analysis can be a powerful and general technique against many ciphers, encryption has still often been effective in practice, as many a would-be cryptanalyst was unaware of the technique. breaking a message without using frequency analysis essentially required knowledge of the cipher used and perhaps of the key involved, thus making espionage, bribery, burglary, defection, etc., more attractive approaches to the cryptanalytically uninformed. it was finally explicitly recognized in the 19th century that secrecy of a cipher's algorithm is not a sensible nor practical safeguard of message security; in fact, it was further realized that any adequate cryptographic scheme (including ciphers) should remain secure even if the adversary fully understands the cipher algorithm itself. security of the key used should alone be sufficient for a good cipher to maintain confidentiality under an attack. this fundamental principle was first explicitly stated in 1883 by auguste kerckhoffs and is generally called kerckhoffs's principle; alternatively and more bluntly, it was restated by claude shannon, the inventor of information theory and the fundamentals of theoretical cryptography, as shannon's maxim—'the enemy knows the system'.\n",
      "different physical devices and aids have been used to assist with ciphers. one of the earliest may have been the scytale of ancient greece, a rod supposedly used by the spartans as an aid for a transposition cipher. in medieval times, other aids were invented such as the cipher grille, which was also used for a kind of steganography. with the invention of polyalphabetic ciphers came more sophisticated aids such as alberti's own cipher disk, johannes trithemius' tabula recta scheme, and thomas jefferson's wheel cypher (not publicly known, and reinvented independently by bazeries around 1900). many mechanical encryption/decryption devices were invented early in the 20th century, and several patented, among them rotor machines—famously including the enigma machine used by the german government and military from the late 1920s and during world war ii. the ciphers implemented by better quality examples of these machine designs brought about a substantial increase in cryptanalytic difficulty after wwi.\n",
      "\n",
      "\n",
      "=== computer era ===\n",
      "prior to the early 20th century, cryptography was mainly concerned with linguistic and lexicographic patterns. since then the emphasis has shifted, and cryptography now makes extensive use of mathematics, including aspects of information theory, computational complexity, statistics, combinatorics, abstract algebra, number theory, and finite mathematics generally. cryptography is also a branch of engineering, but an unusual one since it deals with active, intelligent, and malevolent opposition; other kinds of engineering (e.g., civil or chemical engineering) need deal only with neutral natural forces. there is also active research examining the relationship between cryptographic problems and quantum physics.\n",
      "just as the development of digital computers and electronics helped in cryptanalysis, it made possible much more complex ciphers. furthermore, computers allowed for the encryption of any kind of data representable in any binary format, unlike classical ciphers which only encrypted written language texts; this was new and significant. computer use has thus supplanted linguistic cryptography, both for cipher design and cryptanalysis. many computer ciphers can be characterized by their operation on binary bit sequences (sometimes in groups or blocks), unlike classical and mechanical schemes, which generally manipulate traditional characters (i.e., letters and digits) directly. however, computers have also assisted cryptanalysis, which has compensated to some extent for increased cipher complexity. nonetheless, good modern ciphers have stayed ahead of cryptanalysis; it is typically the case that use of a quality cipher is very efficient (i.e., fast and requiring few resources, such as memory or cpu capability), while breaking it requires an effort many orders of magnitude larger, and vastly larger than that required for any classical cipher, making cryptanalysis so inefficient and impractical as to be effectively impossible.\n",
      "\n",
      "\n",
      "=== advent of modern cryptography ===\n",
      "cryptanalysis of the new mechanical devices proved to be both difficult and laborious. in the united kingdom, cryptanalytic efforts at bletchley park during wwii spurred the development of more efficient means for carrying out repetitious tasks. this culminated in the development of the colossus, the world's first fully electronic, digital, programmable computer, which assisted in the decryption of ciphers generated by the german army's lorenz sz40/42 machine.\n",
      "extensive open academic research into cryptography is relatively recent; it began only in the mid-1970s. in recent times, ibm personnel designed the algorithm that became the federal (i.e., us) data encryption standard; whitfield diffie and martin hellman published their key agreement algorithm; and the rsa algorithm was published in martin gardner's scientific american column. following their work in 1976, it became popular to consider cryptography systems based on mathematical problems that are easy to state but have been found difficult to solve. since then, cryptography has become a widely used tool in communications, computer networks, and computer security generally. some modern cryptographic techniques can only keep their keys secret if certain mathematical problems are intractable, such as the integer factorization or the discrete logarithm problems, so there are deep connections with abstract mathematics. there are very few cryptosystems that are proven to be unconditionally secure. the one-time pad is one, and was proven to be so by claude shannon. there are a few important algorithms that have been proven secure under certain assumptions. for example, the infeasibility of factoring extremely large integers is the basis for believing that rsa is secure, and some other systems, but even so proof of unbreakability is unavailable since the underlying mathematical problem remains open. in practice, these are widely used, and are believed unbreakable in practice by most competent observers.  there are systems similar to rsa, such as one by michael o. rabin that are provably secure provided factoring  n = pq is impossible;  it is quite unusable in practice. the discrete logarithm problem is the basis for believing some other cryptosystems are secure, and again, there are related, less practical systems that are provably secure relative to the solvability or insolvability discrete log problem.as well as being aware of cryptographic history, cryptographic algorithm and system designers must also sensibly consider probable future developments while working on their designs. for instance, continuous improvements in computer processing power have increased the scope of brute-force attacks, so when specifying key lengths, the required key lengths are similarly advancing. the potential effects of quantum computing are already being considered by some cryptographic system designers developing post-quantum cryptography; the announced imminence of small implementations of these machines may be making the need for preemptive caution rather more than merely speculative.\n",
      "\n",
      "\n",
      "== modern cryptography ==\n",
      "\n",
      "\n",
      "=== symmetric-key cryptography ===\n",
      "\n",
      "symmetric-key cryptography refers to encryption methods in which both the sender and receiver share the same key (or, less commonly, in which their keys are different, but related in an easily computable way). this was the only kind of encryption publicly known until june 1976.\n",
      "\n",
      "symmetric key ciphers are implemented as either block ciphers or stream ciphers. a block cipher enciphers input in blocks of plaintext as opposed to individual characters, the input form used by a stream cipher.\n",
      "the data encryption standard (des) and the advanced encryption standard (aes) are block cipher designs that have been designated cryptography standards by the us government (though des's designation was finally withdrawn after the aes was adopted). despite its deprecation as an official standard, des (especially its still-approved and much more secure triple-des variant) remains quite popular; it is used across a wide range of applications, from atm encryption to e-mail privacy and secure remote access. many other block ciphers have been designed and released, with considerable variation in quality. many, even some designed by capable practitioners, have been thoroughly broken, such as feal.stream ciphers, in contrast to the 'block' type, create an arbitrarily long stream of key material, which is combined with the plaintext bit-by-bit or character-by-character, somewhat like the one-time pad. in a stream cipher, the output stream is created based on a hidden internal state that changes as the cipher operates. that internal state is initially set up using the secret key material. rc4 is a widely used stream cipher. block ciphers can be used as stream ciphers.\n",
      "cryptographic hash functions are a third type of cryptographic algorithm. they take a message of any length as input, and output a short, fixed length hash, which can be used in (for example) a digital signature. for good hash functions, an attacker cannot find two messages that produce the same hash. md4 is a long-used hash function that is now broken; md5, a strengthened variant of md4, is also widely used but broken in practice. the us national security agency developed the secure hash algorithm series of md5-like hash functions: sha-0 was a flawed algorithm that the agency withdrew; sha-1 is widely deployed and more secure than md5, but cryptanalysts have identified attacks against it; the sha-2 family improves on sha-1, but is vulnerable to clashes as of 2011; and the us standards authority thought it \"prudent\" from a security perspective to develop a new standard to \"significantly improve the robustness of nist's overall hash algorithm toolkit.\" thus, a hash function design competition was meant to select a new u.s. national standard, to be called sha-3, by 2012. the competition ended on october 2, 2012 when the nist announced that keccak would be the new sha-3 hash algorithm. unlike block and stream ciphers that are invertible, cryptographic hash functions produce a hashed output that cannot be used to retrieve the original input data. cryptographic hash functions are used to verify the authenticity of data retrieved from an untrusted source or to add a layer of security.\n",
      "message authentication codes (macs) are much like cryptographic hash functions, except that a secret key can be used to authenticate the hash value upon receipt; this additional complication blocks an attack scheme against bare digest algorithms, and so has been thought worth the effort.\n",
      "\n",
      "\n",
      "=== public-key cryptography ===\n",
      "\n",
      "symmetric-key cryptosystems use the same key for encryption and decryption of a message, although a message or group of messages can have a different key than others. a significant disadvantage of symmetric ciphers is the key management necessary to use them securely. each distinct pair of communicating parties must, ideally, share a different key, and perhaps for each ciphertext exchanged as well. the number of keys required increases as the square of the number of network members, which very quickly requires complex key management schemes to keep them all consistent and secret.\n",
      "\n",
      "in a groundbreaking 1976 paper, whitfield diffie and martin hellman proposed the notion of public-key (also, more generally, called asymmetric key) cryptography in which two different but mathematically related keys are used—a public key and a private key. a public key system is so constructed that calculation of one key (the 'private key') is computationally infeasible from the other (the 'public key'), even though they are necessarily related. instead, both keys are generated secretly, as an interrelated pair. the historian david kahn described public-key cryptography as \"the most revolutionary new concept in the field since polyalphabetic substitution emerged in the renaissance\".in public-key cryptosystems, the public key may be freely distributed, while its paired private key must remain secret. in a public-key encryption system, the public key is used for encryption, while the private or secret key is used for decryption. while diffie and hellman could not find such a system, they showed that public-key cryptography was indeed possible by presenting the diffie–hellman key exchange protocol, a solution that is now widely used in secure communications to allow two parties to secretly agree on a shared encryption key. \n",
      "the x.509 standard defines the most commonly used format for public key certificates.diffie and hellman's publication sparked widespread academic efforts in finding a practical public-key encryption system. this race was finally won in 1978 by ronald rivest, adi shamir, and len adleman, whose solution has since become known as the rsa algorithm.the diffie–hellman and rsa algorithms, in addition to being the first publicly known examples of high quality public-key algorithms, have been among the most widely used. other asymmetric-key algorithms include the cramer–shoup cryptosystem, elgamal encryption, and various elliptic curve techniques.a document published in 1997 by the government communications headquarters (gchq), a british intelligence organization, revealed that cryptographers at gchq had anticipated several academic developments. reportedly, around 1970, james h. ellis had conceived the principles of asymmetric key cryptography. in 1973, clifford cocks invented a solution that very similar in design rationale to rsa. and in 1974, malcolm j. williamson is claimed to have developed the diffie–hellman key exchange.\n",
      "\n",
      "public-key cryptography is also used for implementing digital signature schemes. a digital signature is reminiscent of an ordinary signature; they both have the characteristic of being easy for a user to produce, but difficult for anyone else to forge. digital signatures can also be permanently tied to the content of the message being signed; they cannot then be 'moved' from one document to another, for any attempt will be detectable. in digital signature schemes, there are two algorithms: one for signing, in which a secret key is used to process the message (or a hash of the message, or both), and one for verification, in which the matching public key is used with the message to check the validity of the signature. rsa and dsa are two of the most popular digital signature schemes. digital signatures are central to the operation of public key infrastructures and many network security schemes (e.g., ssl/tls, many vpns, etc.).public-key algorithms are most often based on the computational complexity of \"hard\" problems, often from number theory. for example, the hardness of rsa is related to the integer factorization problem, while diffie–hellman and dsa are related to the discrete logarithm problem. the security of elliptic curve cryptography is based on number theoretic problems involving elliptic curves. because of the difficulty of the underlying problems, most public-key algorithms involve operations such as modular multiplication and exponentiation, which are much more computationally expensive than the techniques used in most block ciphers, especially with typical key sizes. as a result, public-key cryptosystems are commonly hybrid cryptosystems, in which a fast high-quality symmetric-key encryption algorithm is used for the message itself, while the relevant symmetric key is sent with the message, but encrypted using a public-key algorithm. similarly, hybrid signature schemes are often used, in which a cryptographic hash function is computed, and only the resulting hash is digitally signed.\n",
      "\n",
      "\n",
      "=== cryptanalysis ===\n",
      "\n",
      "the goal of cryptanalysis is to find some weakness or insecurity in a cryptographic scheme, thus permitting its subversion or evasion.\n",
      "it is a common misconception that every encryption method can be broken. in connection with his wwii work at bell labs, claude shannon proved that the one-time pad cipher is unbreakable, provided the key material is truly random, never reused, kept secret from all possible attackers, and of equal or greater length than the message. most ciphers, apart from the one-time pad, can be broken with enough computational effort by brute force attack, but the amount of effort needed may be exponentially dependent on the key size, as compared to the effort needed to make use of the cipher. in such cases, effective security could be achieved if it is proven that the effort required (i.e., \"work factor\", in shannon's terms) is beyond the ability of any adversary. this means it must be shown that no efficient method (as opposed to the time-consuming brute force method) can be found to break the cipher. since no such proof has been found to date, the one-time-pad remains the only theoretically unbreakable cipher.\n",
      "there are a wide variety of cryptanalytic attacks, and they can be classified in any of several ways. a common distinction turns on what eve (an attacker) knows and what capabilities are available. in a ciphertext-only attack, eve has access only to the ciphertext (good modern cryptosystems are usually effectively immune to ciphertext-only attacks). in a known-plaintext attack, eve has access to a ciphertext and its corresponding plaintext (or to many such pairs). in a chosen-plaintext attack, eve may choose a plaintext and learn its corresponding ciphertext (perhaps many times); an example is gardening, used by the british during wwii. in a chosen-ciphertext attack, eve may be able to choose ciphertexts and learn their corresponding plaintexts. finally in a man-in-the-middle attack eve gets in between alice (the sender) and bob (the recipient), accesses and modifies the traffic and then forwards it to the recipient. also important, often overwhelmingly so, are mistakes (generally in the design or use of one of the protocols involved).\n",
      "\n",
      "cryptanalysis of symmetric-key ciphers typically involves looking for attacks against the block ciphers or stream ciphers that are more efficient than any attack that could be against a perfect cipher. for example, a simple brute force attack against des requires one known plaintext and 255 decryptions, trying approximately half of the possible keys, to reach a point at which chances are better than even that the key sought will have been found. but this may not be enough assurance; a linear cryptanalysis attack against des requires 243 known plaintexts (with their corresponding ciphertexts) and approximately 243 des operations. this is a considerable improvement over brute force attacks.\n",
      "public-key algorithms are based on the computational difficulty of various problems. the most famous of these are the difficulty of integer factorization of semiprimes and the difficulty of calculating discrete logarithms, both of which are not yet proven to be solvable in polynomial time using only a classical turing-complete computer. much public-key cryptanalysis concerns designing algorithms in p that can solve these problems, or using other technologies, such as quantum computers. for instance, the best known algorithms for solving the elliptic curve-based version of discrete logarithm are much more time-consuming than the best known algorithms for factoring, at least for problems of more or less equivalent size. thus, other things being equal, to achieve an equivalent strength of attack resistance, factoring-based encryption techniques must use larger keys than elliptic curve techniques. for this reason, public-key cryptosystems based on elliptic curves have become popular since their invention in the mid-1990s.\n",
      "while pure cryptanalysis uses weaknesses in the algorithms themselves, other attacks on cryptosystems are based on actual use of the algorithms in real devices, and are called side-channel attacks. if a cryptanalyst has access to, for example, the amount of time the device took to encrypt a number of plaintexts or report an error in a password or pin character, he may be able to use a timing attack to break a cipher that is otherwise resistant to analysis. an attacker might also study the pattern and length of messages to derive valuable information; this is known as traffic analysis and can be quite useful to an alert adversary. poor administration of a cryptosystem, such as permitting too short keys, will make any system vulnerable, regardless of other virtues. social engineering and other attacks against humans (e.g., bribery, extortion, blackmail, espionage, torture, ...) are usually employed due to being more cost-effective and feasible to perform in a reasonable amount of time compared to pure cryptanalysis by a high margin.\n",
      "\n",
      "\n",
      "=== cryptographic primitives ===\n",
      "much of the theoretical work in cryptography concerns cryptographic primitives—algorithms with basic cryptographic properties—and their relationship to other cryptographic problems. more complicated cryptographic tools are then built from these basic primitives. these primitives provide fundamental properties, which are used to develop more complex tools called cryptosystems or cryptographic protocols, which guarantee one or more high-level security properties. note however, that the distinction between cryptographic primitives and cryptosystems, is quite arbitrary; for example, the rsa algorithm is sometimes considered a cryptosystem, and sometimes a primitive. typical examples of cryptographic primitives include pseudorandom functions, one-way functions, etc.\n",
      "\n",
      "\n",
      "=== cryptosystems ===\n",
      "one or more cryptographic primitives are often used to develop a more complex algorithm, called a cryptographic system, or cryptosystem. cryptosystems (e.g., el-gamal encryption) are designed to provide particular functionality (e.g., public key encryption) while guaranteeing certain security properties (e.g., chosen-plaintext attack (cpa) security in the random oracle model). cryptosystems use the properties of the underlying cryptographic primitives to support the system's security properties. as the distinction between primitives and cryptosystems is somewhat arbitrary, a sophisticated cryptosystem can be derived from a combination of several more primitive cryptosystems. in many cases, the cryptosystem's structure involves back and forth communication among two or more parties in space (e.g., between the sender of a secure message and its receiver) or across time (e.g., cryptographically protected backup data). such cryptosystems are sometimes called cryptographic protocols.\n",
      "some widely known cryptosystems include rsa encryption, schnorr signature, el-gamal encryption, pgp, etc. more complex cryptosystems include electronic cash systems, signcryption systems, etc. some more 'theoretical' cryptosystems include interactive proof systems, (like zero-knowledge proofs), systems for secret sharing, etc.\n",
      "\n",
      "\n",
      "== legal issues ==\n",
      "\n",
      "\n",
      "=== prohibitions ===\n",
      "cryptography has long been of interest to intelligence gathering and law enforcement agencies. secret communications may be criminal or even treasonous. because of its facilitation of privacy, and the diminution of privacy attendant on its prohibition, cryptography is also of considerable interest to civil rights supporters. accordingly, there has been a history of controversial legal issues surrounding cryptography, especially since the advent of inexpensive computers has made widespread access to high quality cryptography possible.\n",
      "in some countries, even the domestic use of cryptography is, or has been, restricted. until 1999, france significantly restricted the use of cryptography domestically, though it has since relaxed many of these rules. in china and iran, a license is still required to use cryptography. many countries have tight restrictions on the use of cryptography. among the more restrictive are laws in belarus, kazakhstan, mongolia, pakistan, singapore, tunisia, and vietnam.in the united states, cryptography is legal for domestic use, but there has been much conflict over legal issues related to cryptography. one particularly important issue has been the export of cryptography and cryptographic software and hardware. probably because of the importance of cryptanalysis in world war ii and an expectation that cryptography would continue to be important for national security, many western governments have, at some point, strictly regulated export of cryptography. after world war ii, it was illegal in the us to sell or distribute encryption technology overseas; in fact, encryption was designated as auxiliary military equipment and put on the united states munitions list. until the development of the personal computer, asymmetric key algorithms (i.e., public key techniques), and the internet, this was not especially problematic. however, as the internet grew and computers became more widely available, high-quality encryption techniques became well known around the globe.\n",
      "\n",
      "\n",
      "=== export controls ===\n",
      "\n",
      "in the 1990s, there were several challenges to us export regulation of cryptography. after the source code for philip zimmermann's pretty good privacy (pgp) encryption program found its way onto the internet in june 1991, a complaint by rsa security (then called rsa data security, inc.) resulted in a lengthy criminal investigation of zimmermann by the us customs service and the fbi, though no charges were ever filed. daniel j. bernstein, then a graduate student at uc berkeley, brought a lawsuit against the us government challenging some aspects of the restrictions based on free speech grounds. the 1995 case bernstein v. united states ultimately resulted in a 1999 decision that printed source code for cryptographic algorithms and systems was protected as free speech by the united states constitution.in 1996, thirty-nine countries signed the wassenaar arrangement, an arms control treaty that deals with the export of arms and \"dual-use\" technologies such as cryptography. the treaty stipulated that the use of cryptography with short key-lengths (56-bit for symmetric encryption, 512-bit for rsa) would no longer be export-controlled. cryptography exports from the us became less strictly regulated as a consequence of a major relaxation in 2000; there are no longer very many restrictions on key sizes in us-exported mass-market software. since this relaxation in us export restrictions, and because most personal computers connected to the internet include us-sourced web browsers such as firefox or internet explorer, almost every internet user worldwide has potential access to quality cryptography via their browsers (e.g., via transport layer security). the mozilla thunderbird and microsoft outlook e-mail client programs similarly can transmit and receive emails via tls, and can send and receive email encrypted with s/mime. many internet users don't realize that their basic application software contains such extensive cryptosystems. these browsers and email programs are so ubiquitous that even governments whose intent is to regulate civilian use of cryptography generally don't find it practical to do much to control distribution or use of cryptography of this quality, so even when such laws are in force, actual enforcement is often effectively impossible.\n",
      "\n",
      "\n",
      "=== nsa involvement ===\n",
      "\n",
      "another contentious issue connected to cryptography in the united states is the influence of the national security agency on cipher development and policy. the nsa was involved with the design of des during its development at ibm and its consideration by the national bureau of standards as a possible federal standard for cryptography. des was designed to be resistant to differential cryptanalysis, a powerful and general cryptanalytic technique known to the nsa and ibm, that became publicly known only when it was rediscovered in the late 1980s. according to steven levy, ibm discovered differential cryptanalysis, but kept the technique secret at the nsa's request. the technique became publicly known only when biham and shamir re-discovered and announced it some years later. the entire affair illustrates the difficulty of determining what resources and knowledge an attacker might actually have.\n",
      "another instance of the nsa's involvement was the 1993 clipper chip affair, an encryption microchip intended to be part of the capstone cryptography-control initiative. clipper was widely criticized by cryptographers for two reasons. the cipher algorithm (called skipjack) was then classified (declassified in 1998, long after the clipper initiative lapsed). the classified cipher caused concerns that the nsa had deliberately made the cipher weak in order to assist its intelligence efforts. the whole initiative was also criticized based on its violation of kerckhoffs's principle, as the scheme included a special escrow key held by the government for use by law enforcement (i.e. wiretapping).\n",
      "\n",
      "\n",
      "=== digital rights management ===\n",
      "\n",
      "cryptography is central to digital rights management (drm), a group of techniques for technologically controlling use of copyrighted material, being widely implemented and deployed at the behest of some copyright holders. in 1998, u.s. president bill clinton signed the digital millennium copyright act (dmca), which criminalized all production, dissemination, and use of certain cryptanalytic techniques and technology (now known or later discovered); specifically, those that could be used to circumvent drm technological schemes. this had a noticeable impact on the cryptography research community since an argument can be made that any cryptanalytic research violated the dmca. similar statutes have since been enacted in several countries and regions, including the implementation in the eu copyright directive. similar restrictions are called for by treaties signed by world intellectual property organization member-states.\n",
      "the united states department of justice and fbi have not enforced the dmca as rigorously as had been feared by some, but the law, nonetheless, remains a controversial one. niels ferguson, a well-respected cryptography researcher, has publicly stated that he will not release some of his research into an intel security design for fear of prosecution under the dmca. cryptologist bruce schneier has argued that the dmca encourages vendor lock-in, while inhibiting actual measures toward cyber-security. both alan cox (longtime linux kernel developer) and edward felten (and some of his students at princeton) have encountered problems related to the act. dmitry sklyarov was arrested during a visit to the us from russia, and jailed for five months pending trial for alleged violations of the dmca arising from work he had done in russia, where the work was legal. in 2007, the cryptographic keys responsible for blu-ray and hd dvd content scrambling were discovered and released onto the internet. in both cases, the motion picture association of america sent out numerous dmca takedown notices, and there was a massive internet backlash triggered by the perceived impact of such notices on fair use and free speech.\n",
      "\n",
      "\n",
      "=== forced disclosure of encryption keys ===\n",
      "\n",
      "in the united kingdom, the regulation of investigatory powers act gives uk police the powers to force suspects to decrypt files or hand over passwords that protect encryption keys. failure to comply is an offense in its own right, punishable on conviction by a two-year jail sentence or up to five years in cases involving national security. successful prosecutions have occurred under the act; the first, in 2009, resulted in a term of 13 months' imprisonment. similar forced disclosure laws in australia, finland, france, and india compel individual suspects under investigation to hand over encryption keys or passwords during a criminal investigation.\n",
      "in the united states, the federal criminal case of united states v. fricosu addressed whether a search warrant can compel a person to reveal an encryption passphrase or password. the electronic frontier foundation (eff) argued that this is a violation of the protection from self-incrimination given by the fifth amendment. in 2012, the court ruled that under the all writs act, the defendant was required to produce an unencrypted hard drive for the court.in many jurisdictions, the legal status of forced disclosure remains unclear.\n",
      "the 2016 fbi–apple encryption dispute concerns the ability of courts in the united states to compel manufacturers' assistance in unlocking cell phones whose contents are cryptographically protected.\n",
      "as a potential counter-measure to forced disclosure some cryptographic software supports plausible deniability, where the encrypted data is indistinguishable from unused random data (for example such as that of a drive which has been securely wiped).\n",
      "\n",
      "\n",
      "== see also ==\n",
      "outline of cryptography – overview of and topical guide to cryptography\n",
      "list of cryptographers – wikipedia list article\n",
      "list of important publications in cryptography – wikipedia list article\n",
      "list of multiple discoveries – wikipedia list article\n",
      "list of unsolved problems in computer science – wikipedia list article\n",
      "syllabical and steganographical table – eighteenth-century work believed to be the first cryptography chart – first cryptography chart\n",
      "comparison of cryptography libraries\n",
      "crypto wars\n",
      "encyclopedia of cryptography and security – book by technische universiteit eindhoven\n",
      "global surveillance – mass surveillance across national borders\n",
      "information theory – theory dealing with information\n",
      "strong cryptography\n",
      "world wide web consortium's web cryptography api\n",
      "collision attack\n",
      "\n",
      "\n",
      "== references ==\n",
      "\n",
      "\n",
      "== further reading ==\n",
      "\n",
      "\n",
      "== external links ==\n",
      " the dictionary definition of cryptography at wiktionary\n",
      " media related to cryptography at wikimedia commons\n",
      "cryptography on in our time at the bbc\n",
      "crypto glossary and dictionary of technical cryptography\n",
      "nsa's cryptokids.\n",
      "overview and applications of cryptology by the cryptool team; pdf; 3.8 mb. july 2008\n",
      "a course in cryptography by raphael pass & abhi shelat – offered at cornell in the form of lecture notes.\n",
      "for more on the use of cryptographic elements in fiction, see: dooley, john f., william and marilyn ingersoll professor of computer science, knox college (23 august 2012). \"cryptology in fiction\".\n",
      "the george fabyan collection at the library of congress has early editions of works of seventeenth-century english literature, publications relating to cryptography.\n"
     ]
    }
   ],
   "source": [
    "key = 14\n",
    "\n",
    "# Print decrypted plaintext and the key (shift)\n",
    "decrypted_text = caesar_decoding(cipher_ceasar, shift=key)\n",
    "print(\"The key is: \" + str(key))\n",
    "print(decrypted_text) "
   ]
  },
  {
   "attachments": {},
   "cell_type": "markdown",
   "metadata": {},
   "source": [
    "## Simple Substitution Cipher"
   ]
  },
  {
   "attachments": {},
   "cell_type": "markdown",
   "metadata": {},
   "source": [
    "**Simple Substitution cipher** is performed with the substitution of each letter or even character of one plain text with different letters or characters, without any shifting; of course, since each individual letter is replaced always with the same, let's say, \"encoding\" letter, the probability distribution of the letters present in the cipher text will be the same of the corresponding letters of the plain text."
   ]
  },
  {
   "attachments": {},
   "cell_type": "markdown",
   "metadata": {},
   "source": [
    "For the reason just mentioned, one way of attacking this kind of encryption relies on the observation of the probability distribution: in a sequential manner, the hacker can substitute the most frequent letter of the cipher text with the most frequent letter of the original alphabet (usually the English one), and so on untill possible; when the probability of one letter is so little not to be sure of the substitution, we simply continue by attempts, manually. \n",
    "\n",
    "A brute force attack would be unfeasable in this scenario, since we would need to try 2 to the power of the number of letters possible combinations!"
   ]
  },
  {
   "attachments": {},
   "cell_type": "markdown",
   "metadata": {},
   "source": [
    "### Decoder"
   ]
  },
  {
   "attachments": {},
   "cell_type": "markdown",
   "metadata": {},
   "source": [
    "As we did with the Ceasar cipher, the simplest way of proceeding is to create an encoded version of the English alphabet, with which we can, letter by letter, decode the given cipher text."
   ]
  },
  {
   "cell_type": "code",
   "execution_count": 87,
   "metadata": {},
   "outputs": [],
   "source": [
    "def substitution_decoding(ciphertext, rule):\n",
    "    \n",
    "    plaintext = \"\"\n",
    "    \n",
    "    for character in ciphertext:\n",
    "        if character.lower() in string.ascii_lowercase: # Checks whether the character is a letter or not\n",
    "            for i, letter in enumerate(rule.values()):\n",
    "                if (letter == character.lower()):\n",
    "                    plaintext += tuple(rule.keys())[i] # We append the new decoded letter to the plain text\n",
    "        else:\n",
    "            plaintext += character # If the character is not a letter, we append it directly as it is\n",
    "\n",
    "    return plaintext"
   ]
  },
  {
   "cell_type": "code",
   "execution_count": 88,
   "metadata": {},
   "outputs": [
    {
     "name": "stdout",
     "output_type": "stream",
     "text": [
      "{'a': 'm', 'b': 'y', 'c': 'd', 'd': 'g', 'e': 'a', 'f': 'q', 'g': 's', 'h': 'i', 'i': 'k', 'j': 'c', 'k': 'z', 'l': 'f', 'm': 'l', 'n': 'o', 'o': 'j', 'p': 'r', 'q': 'b', 'r': 't', 's': 'v', 't': 'u', 'u': 'p', 'v': 'w', 'w': 'e', 'x': 'n', 'y': 'x', 'z': 'h'}\n",
      "ije xjp gjkos? -> how you doing?\n"
     ]
    }
   ],
   "source": [
    "# Test your function\n",
    "alphabet = generate_alphabet()\n",
    "encoded_alphabet = ('m', 'y', 'd', 'g', 'a', 'q', 's', 'i', 'k', 'c', 'z', 'f', 'l', 'o', 'j', 'r', 'b', 't', 'v', 'u', 'p', 'w', 'e', 'n', 'x', 'h')\n",
    "decoding_rule = dict(zip(alphabet, encoded_alphabet)) # The decoding rule is given as a dictionary with the alphabet as keys and the encoded correspondent letters as values\n",
    "print(decoding_rule)\n",
    "\n",
    "ciphertext = 'ije xjp gjkos?' # 'how you doing?' encoded\n",
    "plaintext = substitution_decoding(ciphertext, decoding_rule)\n",
    "\n",
    "print(ciphertext, '->', plaintext)"
   ]
  },
  {
   "attachments": {},
   "cell_type": "markdown",
   "metadata": {},
   "source": [
    "### Ciphertext"
   ]
  },
  {
   "cell_type": "code",
   "execution_count": 89,
   "metadata": {},
   "outputs": [],
   "source": [
    "# Load ciphertext\n",
    "file_path = 'ciphertext_simple.txt'\n",
    "with open(file=file_path, mode='r') as f:\n",
    "    cipher = f.read()"
   ]
  },
  {
   "attachments": {},
   "cell_type": "markdown",
   "metadata": {},
   "source": [
    "### Frequency Analysis"
   ]
  },
  {
   "attachments": {},
   "cell_type": "markdown",
   "metadata": {},
   "source": [
    "As briefly explained before, a frequency analysis attack can be performed using the probability distribution of the letters of the used alphabet, like the English one in this case; first of all we need to compute the distribution of the letters present in the cipher text, in order to compare it to the generic English distribution. Since the frequency of many letters is extremely similar, we won't be able to directly obtain each letter only looking at their frequency; this will be possible only for those letters whose frequency is much larger than all the others, like 'e', 't' and 'a', for example. This means that at some point we will need to proceed manually, with a huge advantage given by the initial frequency analysis."
   ]
  },
  {
   "cell_type": "code",
   "execution_count": 90,
   "metadata": {},
   "outputs": [
    {
     "name": "stdout",
     "output_type": "stream",
     "text": [
      "{'a': 7.7198824348889765, 'b': 1.7685734187322677, 'c': 2.6129355600482493, 'd': 4.328842527310103, 'e': 13.11734425171166, 'f': 2.3971730007984915, 'g': 1.9673468000883438, 'h': 5.793309661745468, 'i': 7.1847233312380006, 'j': 0.1919777101986035, 'k': 0.6065136508044376, 'l': 4.019639489645096, 'm': 2.572161533103413, 'n': 6.720918774740491, 'o': 7.235690864919047, 'p': 1.9537554577733984, 'q': 0.10363398515145852, 'r': 5.618321129440546, 's': 6.0668354258337445, 't': 9.439187237729566, 'u': 3.1990621973802686, 'v': 0.9089210173119722, 'w': 2.2272812218616744, 'x': 0.2038701347241807, 'y': 1.9673468000883438, 'z': 0.07475238273219958}\n"
     ]
    }
   ],
   "source": [
    "# Load the true letter frequency distribution computed in Homework\n",
    "with open('dict-letters-freq.pkl', 'rb') as f:\n",
    "    alphabet_dict = pickle.load(f)\n",
    "\n",
    "for element in alphabet_dict.keys():\n",
    "    alphabet_dict[element] = alphabet_dict[element] * 100 # I prefer working with percentages\n",
    "print(alphabet_dict)"
   ]
  },
  {
   "cell_type": "code",
   "execution_count": 91,
   "metadata": {},
   "outputs": [
    {
     "data": {
      "image/png": "[encoded data removed]",
      "text/plain": [
       "<Figure size 640x480 with 1 Axes>"
      ]
     },
     "metadata": {},
     "output_type": "display_data"
    }
   ],
   "source": [
    "# Plot the distribution\n",
    "plt.bar(list(alphabet_dict.keys()), alphabet_dict.values())\n",
    "plt.grid(True)\n",
    "plt.xlabel('Letters')\n",
    "plt.ylabel('Percentages (%)')\n",
    "plt.suptitle('Letters distribution')\n",
    "plt.show()"
   ]
  },
  {
   "cell_type": "code",
   "execution_count": 92,
   "metadata": {},
   "outputs": [
    {
     "data": {
      "image/png": "[encoded data removed]",
      "text/plain": [
       "<Figure size 640x480 with 1 Axes>"
      ]
     },
     "metadata": {},
     "output_type": "display_data"
    }
   ],
   "source": [
    "# Sorting the dictionary to have a cleaner sight on the situation\n",
    "sorted_dict = {key: val for key, val in sorted(alphabet_dict.items(), key = lambda ele: ele[1], reverse = True)}\n",
    "\n",
    "# Plot the sorted distribution\n",
    "plt.bar(list(sorted_dict.keys()), sorted_dict.values())\n",
    "plt.grid(True)\n",
    "plt.xlabel('Letters')\n",
    "plt.ylabel('Percentages (%)')\n",
    "plt.suptitle('Letters distribution (sorted)')\n",
    "plt.show()"
   ]
  },
  {
   "cell_type": "code",
   "execution_count": 93,
   "metadata": {},
   "outputs": [],
   "source": [
    "def occur_letter_in_txt(letter, txt):\n",
    "    \n",
    "    '''\n",
    "    Obtain the number of occurrences of a letter in a given text file.\n",
    "    Parameters\n",
    "    ----------\n",
    "    letter: str,\n",
    "        a letter of which to count the occurrences\n",
    "    txt: str\n",
    "        text file in which to count the occurrences\n",
    "\n",
    "    Return\n",
    "    ------\n",
    "    int,\n",
    "        number of occurences\n",
    "    '''\n",
    "    \n",
    "    alphabet = generate_alphabet()\n",
    "    \n",
    "    # check if letter is in alphabet\n",
    "    if letter in alphabet:\n",
    "        txt_lower = txt.lower()\n",
    "        occurrence = txt_lower.count(letter)\n",
    "    else:\n",
    "        print(f'The character \"{letter}\" is not an alphabet symbol')\n",
    "        occurrence = None\n",
    "        \n",
    "    return occurrence"
   ]
  },
  {
   "cell_type": "code",
   "execution_count": 94,
   "metadata": {},
   "outputs": [],
   "source": [
    "def freq_from_txt(txt):\n",
    "        \n",
    "    '''\n",
    "    Obtain the number of occurrences of each letter of the English\n",
    "    alphabet in a given text file.\n",
    "    Parameters\n",
    "    ----------\n",
    "    txt: str\n",
    "        text file in which to count the occurrences \n",
    "\n",
    "    Return\n",
    "    ------\n",
    "    dict,\n",
    "        {letter: frequency of occurence}\n",
    "    '''\n",
    "    \n",
    "    ## obtain the English alphabet ##\n",
    "    alphabet = generate_alphabet()\n",
    "    \n",
    "    # obtain occurrences \n",
    "    occurrences = tuple([occur_letter_in_txt(letter, txt) for letter in alphabet])\n",
    "    # compute occurrences \n",
    "    frequencies = occurrences / np.sum(occurrences)\n",
    "    # store data in a dictionary\n",
    "    dictionary = dict(zip(alphabet, frequencies))\n",
    "    \n",
    "    return dictionary"
   ]
  },
  {
   "cell_type": "code",
   "execution_count": 95,
   "metadata": {},
   "outputs": [
    {
     "data": {
      "image/png": "[encoded data removed]",
      "text/plain": [
       "<Figure size 640x480 with 1 Axes>"
      ]
     },
     "metadata": {},
     "output_type": "display_data"
    }
   ],
   "source": [
    "# Perform the Frequency Analysis attack\n",
    "\n",
    "# Get the letter distribution of the cipher\n",
    "encoded_alphabet_dict = freq_from_txt(cipher)\n",
    "\n",
    "for element in encoded_alphabet_dict.keys():\n",
    "    encoded_alphabet_dict[element] = encoded_alphabet_dict[element] * 100\n",
    "\n",
    "# Sort the frequency values\n",
    "sorted_encoded_dict = {key: val for key, val in sorted(encoded_alphabet_dict.items(), key = lambda ele: ele[1], reverse = True)}\n",
    "\n",
    "# Plot the distribution\n",
    "plt.bar(list(sorted_encoded_dict.keys()), sorted_dict.values())\n",
    "plt.grid(True)\n",
    "plt.xlabel('Letters')\n",
    "plt.ylabel('Percentages (%)')\n",
    "plt.suptitle('Encrypted letters distribution (sorted)')\n",
    "plt.show()\n",
    "\n",
    "# Start decoding\n",
    "x = list(sorted_dict.keys())\n",
    "y = list(sorted_encoded_dict.keys())\n",
    "z = list(sorted_encoded_dict.keys())\n",
    "\n",
    "for j in range(3): # The number inside range() function indicates how many letters are substituted\n",
    "                   # : we change only the first three letters, being the ones we can be sure the most\n",
    "    temp = x[j]\n",
    "    for i in range(len(y)):\n",
    "        if (y[i] == temp):\n",
    "            y[i] = y[j]\n",
    "    y[j] = x[j]\n",
    "\n",
    "#decoding_rule = dict(zip(y, z))   # Only the first three letters changed\n",
    "decoding_rule = dict(zip(sorted_dict.keys(), sorted_encoded_dict.keys())) # All letters changed accordingly to the distribution --> start from here to find the key\n",
    "plain = substitution_decoding(cipher, decoding_rule)"
   ]
  },
  {
   "attachments": {},
   "cell_type": "markdown",
   "metadata": {},
   "source": [
    "From this first step we've only found the first three letters, now we have to proceed in discovering all the others: for example we could look for particular patterns in the partially decrypted text, and step by step solving the whole problem."
   ]
  },
  {
   "cell_type": "code",
   "execution_count": 96,
   "metadata": {},
   "outputs": [
    {
     "name": "stdout",
     "output_type": "stream",
     "text": [
      "{'e': 'r', 't': 'e', 'a': 'y', 'o': 'j', 'i': 'x', 'n': 'f', 's': 'w', 'h': 'v', 'r': 'm', 'd': 'h', 'l': 't', 'u': 'b', 'c': 'l', 'm': 'c', 'f': 'n', 'w': 'i', 'g': 's', 'y': 'o', 'p': 'd', 'b': 'a', 'v': 'z', 'k': 'q', 'x': 'u', 'j': 'p', 'q': 'k', 'z': 'g'}\n",
      "ldamue edpnnu srattnt (afhid 30, 1916 – webhmahy 24, 2001) pas at acehilat caorecaoiliat, edelohilad etgiteeh, atu lhyfonghafreh ktnpt as \"ore waoreh nw itwnhcaoint orenhy\". srattnt is tnoeu wnh ravitg wnmtueu itwnhcaoint orenhy pior a datucahk fafeh, \"a caorecaoilad orenhy nw lnccmtilaoint\", prilr re fmbdisreu it 1948.\n",
      "re is adsn pedd ktnpt wnh wnmtuitg uigioad lihlmio uesigt orenhy it 1937, pret—as a 21-yeah-ndu casoeh's ueghee somueto ao ore cassalrmseoos itsoiomoe nw oelrtndngy (cio)—re phnoe ris oresis uecntsohaoitg orao edelohilad affdilaoints nw bnndeat adgebha lnmdu lntsohmlo aty dngilad tmcehilad hedaointsrif. srattnt lntohibmoeu on ore wiedu nw lhyfoatadysis wnh taointad uewetse umhitg pnhdu pah ii, itldmuitg ris wmtuacetoad pnhk nt lnuebheakitg atu selmhe oedelnccmtilaoints.\n",
      "\n",
      "\n",
      "== binghafry ==\n",
      "\n",
      "\n",
      "=== lridurnnu ===\n",
      "ore srattnt wacidy diveu it gaydnhu, cilrigat, atu ldamue pas bnht it a rnsfioad it teahby feonskey. ris waoreh, ldamue sh. (1862–1934) pas a bmsitesscat atu wnh a pride, a xmuge nw fhnbaoe it gaydnhu. ris cnoreh, cabed pndw srattnt (1890–1945), pas a datgmage oealreh, prn adsn sehveu as ore fhitlifad nw gaydnhu rigr slrnnd. ldamue sh. pas a uesletuato nw tep xehsey seoodehs, pride cabed pas a lridu nw gehcat iccighatos.cnso nw ore wihso 16 yeahs nw srattnt's diwe pehe sfeto it gaydnhu, prehe re aooetueu fmbdil slrnnd, ghaumaoitg whnc gaydnhu rigr slrnnd it 1932. srattnt srnpeu at itlditaoint onpahus celratilad atu edelohilad oritgs. ris beso smbxelos pehe slietle atu caorecaoils. ao rnce re lntsohmloeu smlr ueviles as cnueds nw fdates, a hauin-lntohnddeu cnued bnao atu a bahbeu-pihe oedeghafr sysoec on a whietu's rnmse a radw-cide apay. pride ghnpitg mf, re adsn pnhkeu as a cessetgeh wnh ore pesoeht mtint lncfaty.\n",
      "srattnt's lridurnnu rehn pas orncas euisnt, prn re daoeh deahteu pas a uisoato lnmsit. bnor srattnt atu euisnt pehe uesletuatos nw xnrt nguet (1609–1682), a lndntiad deaueh atu at atlesonh nw caty uisoitgmisreu fenfde.\n",
      "\n",
      "\n",
      "=== dngil lihlmios ===\n",
      "it 1932, srattnt etoeheu ore mtivehsioy nw cilrigat, prehe re pas itohnumleu on ore pnhk nw genhge bnnde. re ghaumaoeu it 1936 pior opn balrednh's ueghees: nte it edelohilad etgiteehitg atu ore noreh it caorecaoils.\n",
      "it 1936, srattnt begat ris ghaumaoe somuies it edelohilad etgiteehitg ao cio, prehe re pnhkeu nt vattevah bmsr's uiwwehetoiad atadyqeh, at eahdy atadng lncfmoeh. pride somuyitg ore lncfdilaoeu au rnl lihlmios nw oris atadyqeh, srattnt uesigteu spiolritg lihlmios baseu nt bnnde's lntlefos. it 1937, re phnoe ris casoeh's ueghee oresis, a sycbndil atadysis nw heday atu spiolritg lihlmios. a fafeh whnc oris oresis pas fmbdisreu it 1938. it oris pnhk, srattnt fhnveu orao ris spiolritg lihlmios lnmdu be mseu on sicfdiwy ore ahhatgeceto nw ore edelohncelratilad hedays orao pehe mseu oret it oedefrnte ladd hnmoitg spiolres. tejo, re ejfatueu oris lntlefo, fhnvitg orao orese lihlmios lnmdu sndve add fhnbdecs orao bnndeat adgebha lnmdu sndve. it ore daso lrafoeh, re fhesetoeu uiaghacs nw sevehad lihlmios, itldmuitg a 4-bio wmdd auueh.msitg oris fhnfehoy nw edelohilad spiolres on icfdeceto dngil is ore wmtuacetoad lntlefo orao mtuehdies add edelohntil uigioad lncfmoehs. srattnt's pnhk belace ore wnmtuaoint nw uigioad lihlmio uesigt, as io belace piuedy ktnpt it ore edelohilad etgiteehitg lnccmtioy umhitg atu awoeh pnhdu pah ii. ore orenheoilad hignh nw srattnt's pnhk smfehseueu ore au rnl ceornus orao rau fhevaideu fhevinmsdy. rnpahu gahuteh laddeu srattnt's oresis \"fnssibdy ore cnso icfnhoato, atu adsn ore cnso tnoeu, casoeh's oresis nw ore letomhy.\"srattnt heleiveu ris fru whnc cio it 1940. vattevah bmsr rau smggesoeu orao srattnt srnmdu pnhk nt ris uissehoaoint ao ore lndu sfhitg rahbnh dabnhaonhy, it nhueh on uevednf a caorecaoilad wnhcmdaoint wnh cetuediat geteoils. oris heseahlr hesmdoeu it srattnt's fru oresis, laddeu at adgebha wnh orenheoilad geteoils.it 1940, srattnt belace a taointad heseahlr weddnp ao ore itsoiomoe wnh auvatleu somuy it fhitleont, tep xehsey. it fhitleont, srattnt rau ore nffnhomtioy on uislmss ris iueas pior itwdmetoiad slietoisos atu caorecaoiliats smlr as rehcatt peyd atu xnrt vnt temcatt, atu re adsn rau nllasintad etlnmtoehs pior adbeho eitsoeit atu kmho göued. srattnt pnhkeu wheedy alhnss uislifdites, atu oris abidioy cay rave lntohibmoeu on ris daoeh uevednfceto nw caorecaoilad itwnhcaoint orenhy.\n",
      "\n",
      "\n",
      "=== pahoice heseahlr ===\n",
      "srattnt oret xniteu bedd dabs on pnhk nt wihe-lntohnd sysoecs atu lhyfonghafry umhitg pnhdu pah ii, mtueh a lntohalo pior seloint u-2 (lntohnd sysoecs seloint) nw ore taointad uewetse heseahlr lncciooee (tuhl).\n",
      "srattnt is lheuioeu pior ore itvetoint nw sigtad-wdnp ghafrs, it 1942. re uislnveheu ore onfndngilad gait wnhcmda pride itvesoigaoitg ore wmtlointad nfehaoint nw at atadng lncfmoeh.wnh opn cntors eahdy it 1943, srattnt lace iton lntoalo pior ore deauitg bhioisr caorecaoiliat adat omhitg. omhitg rau beet fnsoeu on pasritgont on srahe pior ore m.s. tavy's lhyfoatadyoil sehvile ore ceornus mseu by ore bhioisr gnvehtceto lnue atu lyfreh slrnnd ao bdeolrdey fahk on bheak ore lifrehs mseu by ore khiegscahite m-bnaos it ore tnhor aodatoil nleat. re pas adsn itoehesoeu it ore etlifrehceto nw sfeelr atu on oris etu sfeto oice ao bedd dabs. srattnt atu omhitg ceo ao oeaoice it ore laweoehia. omhitg srnpeu srattnt ris 1936 fafeh orao uewiteu prao is tnp ktnpt as ore \"mtivehsad omhitg calrite\". oris icfhesseu srattnt, as caty nw ios iueas lncfdecetoeu ris npt.\n",
      "it 1945, as ore pah pas lncitg on at etu, ore tuhl pas issmitg a smccahy nw oelrtilad hefnhos as a daso soef fhinh on ios evetomad ldnsitg unpt. itsiue ore vndmce nt wihe lntohnd, a sfeliad essay oiodeu uaoa scnnoritg atu fheuiloint it wihe-lntohnd sysoecs, lnamornheu by srattnt, hadfr beebe bdalkcat, atu retuhik paue bnue, wnhcaddy oheaoeu ore fhnbdec nw scnnoritg ore uaoa it wihe-lntohnd by atadngy pior \"ore fhnbdec nw sefahaoitg a sigtad whnc itoehwehitg tnise it lnccmtilaoints sysoecs.\" it noreh pnhus, io cnuedeu ore fhnbdec it oehcs nw uaoa atu sigtad fhnlessitg atu orms rehadueu ore lncitg nw ore itwnhcaoint age.\n",
      "srattnt's pnhk nt lhyfonghafry pas evet cnhe ldnsedy hedaoeu on ris daoeh fmbdilaoints nt lnccmtilaoint orenhy. ao ore ldnse nw ore pah, re fhefaheu a ldassiwieu cecnhatumc wnh bedd oedefrnte dabs etoiodeu \"a caorecaoilad orenhy nw lhyfonghafry\", uaoeu sefoecbeh 1945. a ueldassiwieu vehsint nw oris fafeh pas fmbdisreu it 1949 as \"lnccmtilaoint orenhy nw selhely sysoecs\" it ore bedd sysoec oelrtilad xnmhtad. oris fafeh itlnhfnhaoeu caty nw ore lntlefos atu caorecaoilad wnhcmdaoints orao adsn affeaheu it ris a caorecaoilad orenhy nw lnccmtilaoint. srattnt saiu orao ris pahoice itsigros iton lnccmtilaoint orenhy atu lhyfonghafry uevednfeu sicmdoatenmsdy atu orao \"orey pehe sn ldnse ongeoreh ynm lnmdut’o sefahaoe orec\". it a wnnotnoe teah ore begittitg nw ore ldassiwieu hefnho, srattnt attnmtleu ris itoetoint on \"uevednf orese hesmdos … it a wnhorlncitg cecnhatumc nt ore ohatscissint nw itwnhcaoint.\"pride re pas ao bedd dabs, srattnt fhnveu orao ore lhyfonghafril nte-oice fau is mtbheakabde it ris ldassiwieu heseahlr orao pas daoeh fmbdisreu it nlonbeh 1949. re adsn fhnveu orao aty mtbheakabde sysoec cmso rave essetoiaddy ore sace lrahaloehisoils as ore nte-oice fau: ore key cmso be ohmdy hatunc, as dahge as ore fdaitoejo, teveh hemseu it prnde nh faho, atu be kefo selheo.\n",
      "\n",
      "\n",
      "=== itwnhcaoint orenhy ===\n",
      "it 1948, ore fhnciseu cecnhatumc affeaheu as \"a caorecaoilad orenhy nw lnccmtilaoint\", at ahoilde it opn fahos it ore xmdy atu nlonbeh issmes nw ore bedd sysoec oelrtilad xnmhtad. oris pnhk wnlmses nt ore fhnbdec nw rnp beso on etlnue ore itwnhcaoint a setueh patos on ohatscio. it oris wmtuacetoad pnhk, re mseu onnds it fhnbabidioy orenhy, uevednfeu by tnhbeho pieteh, prilr pehe it oreih tasleto soages nw beitg affdieu on lnccmtilaoint orenhy ao orao oice. srattnt uevednfeu itwnhcaoint etohnfy as a ceasmhe nw ore itwnhcaoint lntoeto it a cessage, prilr is a ceasmhe nw mtlehoaitoy heumleu by ore cessage, pride essetoiaddy itvetoitg ore wiedu nw itwnhcaoint orenhy. it 1949 ldamue srattnt atu hnbeho watn ueviseu a sysoecaoil pay on assigt lnue pnhus baseu nt fhnbabidioies nw bdnlks. oris oelrtizme, ktnpt as srattnt–watn lnuitg, pas wihso fhnfnseu it ore 1948 ahoilde.\n",
      "ore bnnk, ln-amornheu pior pahhet peaveh, ore caorecaoilad orenhy nw lnccmtilaoint, hefhitos srattnt's 1948 ahoilde atu peaveh's fnfmdahiqaoint nw io, prilr is allessibde on ore tnt-sfeliadiso. pahhet peaveh fnitoeu nmo orao ore pnhu \"itwnhcaoint\" it lnccmtilaoint orenhy is tno hedaoeu on prao ynm un say, bmo on prao ynm lnmdu say. orao is, itwnhcaoint is a ceasmhe nw nte's wheeunc nw lrnile pret nte sedelos a cessage. srattnt's lntlefos pehe adsn fnfmdahiqeu, smbxelo on ris npt fhnnwheauitg, it xnrt hnbitsnt fiehle's sycbnds, sigtads, atu tnise.\n",
      "itwnhcaoint orenhy's wmtuacetoad lntohibmoint on taomhad datgmage fhnlessitg atu lncfmoaointad ditgmisoils pas wmhoreh esoabdisreu it 1951, it ris ahoilde \"fheuiloint atu etohnfy nw fhitoeu etgdisr\", srnpitg mffeh atu dnpeh bnmtus nw etohnfy nt ore soaoisoils nw etgdisr – givitg a soaoisoilad wnmtuaoint on datgmage atadysis. it auuioint, re fhnveu orao oheaoitg prioesfale as ore 27or deooeh nw ore adfrabeo alomaddy dnpehs mtlehoaitoy it phiooet datgmage, fhnviuitg a ldeah zmatoiwiabde ditk beopeet lmdomhad fhaloile atu fhnbabidisoil lngtioint.\n",
      "atnoreh tnoabde fafeh fmbdisreu it 1949 is \"lnccmtilaoint orenhy nw selhely sysoecs\", a ueldassiwieu vehsint nw ris pahoice pnhk nt ore caorecaoilad orenhy nw lhyfonghafry, it prilr re fhnveu orao add orenheoiladdy mtbheakabde lifrehs cmso rave ore sace hezmihecetos as ore nte-oice fau. re is adsn lheuioeu pior ore itohnumloint nw sacfditg orenhy, prilr is lntlehteu pior hefhesetoitg a lntoitmnms-oice sigtad whnc a (mtiwnhc) uislheoe seo nw sacfdes. oris orenhy pas essetoiad it etabditg oedelnccmtilaoints on cnve whnc atadng on uigioad ohatscissints sysoecs it ore 1960s atu daoeh.\n",
      "re heomhteu on cio on rndu at etunpeu lraih it 1956.\n",
      "\n",
      "\n",
      "=== oealritg ao cio ===\n",
      "it 1956 srattnt xniteu ore cio walmdoy on pnhk it ore heseahlr dabnhaonhy nw edelohntils (hde). re lntoitmeu on sehve nt ore cio walmdoy mtoid 1978.\n",
      "\n",
      "\n",
      "=== daoeh diwe ===\n",
      "srattnt uevednfeu adqreiceh's uisease atu sfeto ore daso wep yeahs nw ris diwe it a tmhsitg rnce; re uieu it 2001, smhviveu by ris piwe, a snt atu uamgroeh, atu opn ghatuuamgroehs.\n",
      "\n",
      "\n",
      "=== rnbbies atu itvetoints ===\n",
      "\n",
      "nmosiue nw srattnt's alauecil fmhsmios, re pas itoehesoeu it xmggditg, mtilylditg, atu lress. re adsn itvetoeu caty ueviles, itldmuitg a hncat tmcehad lncfmoeh laddeu orhnbal, xmggditg calrites, atu a wdace-orhnpitg ohmcfeo. re bmido a uevile orao lnmdu sndve ore hmbik's lmbe fmqqde.srattnt uesigteu ore citival 601, a uigioad lncfmoeh ohaiteh on oealr bmsitess fenfde abnmo rnp lncfmoehs wmtlointeu. io pas sndu by ore slietoiwil uevednfceto lnhf soahoitg it 1961.re is adsn lntsiueheu ore ln-itvetonh nw ore wihso peahabde lncfmoeh adntg pior eupahu n. ornhf. ore uevile pas mseu on icfhnve ore nuus pret fdayitg hnmdeooe.\n",
      "\n",
      "\n",
      "=== fehsntad diwe ===\n",
      "srattnt cahhieu tnhca devnh, a peadory, xepisr, dewo-pitg itoeddelomad it xatmahy 1940. ore cahhiage etueu it uivnhle awoeh abnmo a yeah. devnh daoeh cahhieu bet bahqcat.srattnt ceo ris selntu piwe beooy srattnt (tée cahy ediqabeor cnnhe) pret sre pas a tmcehilad atadyso ao bedd dabs. orey pehe cahhieu it 1949. beooy assisoeu ldamue it bmiduitg snce nw ris cnso wacnms itvetoints.  orey rau orhee lriduhet.srattnt pas afndioilad atu at aoreiso.\n",
      "\n",
      "\n",
      "=== ohibmoes ===\n",
      "orehe ahe sij soaomes nw srattnt slmdfoeu by emgete uamb: nte ao ore mtivehsioy nw cilrigat; nte ao cio it ore dabnhaonhy wnh itwnhcaoint atu uelisint sysoecs; nte it gaydnhu, cilrigat; nte ao ore mtivehsioy nw ladiwnhtia, sat uiegn; nte ao bedd dabs; atu atnoreh ao ao&o srattnt dabs. awoeh ore bheakmf nw ore bedd sysoec, ore faho nw bedd dabs orao hecaiteu pior ao&o lnhfnhaoint pas taceu srattnt dabs it ris rntnh.\n",
      "allnhuitg on teid sdnate, at ao&o weddnp prn ln-euioeu srattnt's dahge lnddeloint nw fafehs it 1993, ore fehsfeloive itohnumleu by srattnt's lnccmtilaoint orenhy (tnp laddeu itwnhcaoint orenhy) is ore wnmtuaoint nw ore uigioad hevndmoint, atu evehy uevile lntoaititg a cilhnfhnlessnh nh cilhnlntohnddeh is a lntlefomad uesletuato nw srattnt's fmbdilaoint it 1948: \"re's nte nw ore gheao cet nw ore letomhy. piornmo ric, tnte nw ore oritgs pe ktnp onuay pnmdu ejiso. ore prnde uigioad hevndmoint soahoeu pior ric.\" ore mtio srattnt is taceu awoeh ldamue srattnt.\n",
      "a citu ao fday, a binghafry nw srattnt phiooet by xiccy snti atu hnb gnnucat, pas fmbdisreu it 2017.nt afhid 30, 2016 srattnt pas rntnheu pior a gnngde unnude on ledebhaoe ris diwe nt prao pnmdu rave beet ris 100or bihoruay.ore bio fdayeh, a weaomhe widc abnmo srattnt uiheloeu by cahk devitsnt fhecieheu ao ore pnhdu slietle wesoivad it 2019.  uhapt whnc itoehvieps lntumloeu pior srattnt it ris rnmse it ore 1980s, ore widc pas hedeaseu nt acaqnt fhice it amgmso 2020.\n",
      "\n",
      "\n",
      "== noreh pnhk ==\n",
      "\n",
      "\n",
      "=== srattnt's cnmse ===\n",
      "\"oresems\", lheaoeu it 1950, pas a celratilad cnmse lntohnddeu by at edelohncelratilad heday lihlmio orao etabdeu io on cnve ahnmtu a dabyhitor nw 25 szmahes. ore caqe lntwigmhaoint pas wdejibde atu io lnmdu be cnuiwieu ahbiohahidy by heahhatgitg cnvabde fahoioints. ore cnmse pas uesigteu on seahlr orhnmgr ore lnhhiunhs mtoid io wnmtu ore oahgeo. ravitg ohaveddeu orhnmgr ore caqe, ore cnmse lnmdu oret be fdaleu atyprehe io rau beet bewnhe, atu belamse nw ios fhinh ejfehietle io lnmdu gn uihelody on ore oahgeo. iw fdaleu it mtwacidiah oehhionhy, io pas fhnghacceu on seahlr mtoid io healreu a ktnpt dnlaoint atu oret io pnmdu fhnleeu on ore oahgeo, auuitg ore tep ktnpdeuge on ios cecnhy atu deahtitg tep beravinh. srattnt's cnmse affeahs on rave beet ore wihso ahoiwiliad deahtitg uevile nw ios kitu.\n",
      "\n",
      "\n",
      "=== srattnt's esoicaoe wnh ore lncfdejioy nw lress ===\n",
      "\n",
      "it 1949 srattnt lncfdeoeu a fafeh (fmbdisreu it cahlr 1950) prilr esoicaoes ore gace-ohee lncfdejioy nw lress, prilr is affhnjicaoedy 10120. oris tmcbeh is tnp nwoet hewehheu on as ore \"srattnt tmcbeh\", atu is soidd hegahueu onuay as at allmhaoe esoicaoe nw ore gace's lncfdejioy. ore tmcbeh is nwoet lioeu as nte nw ore bahhiehs on sndvitg ore gace nw lress msitg at ejramsoive atadysis (i.e. bhmoe wnhle atadysis).\n",
      "\n",
      "\n",
      "=== srattnt's lncfmoeh lress fhnghac ===\n",
      "nt cahlr 9, 1949, srattnt fhesetoeu a fafeh laddeu \"fhnghaccitg a lncfmoeh wnh fdayitg lress\". ore fafeh pas fhesetoeu ao ore taointad itsoiomoe wnh hauin etgiteehs lntvetoint it tep ynhk. re ueslhibeu rnp on fhnghac a lncfmoeh on fday lress baseu nt fnsioint slnhitg atu cnve sedeloint. re fhnfnseu basil sohaoegies wnh hesohiloitg ore tmcbeh nw fnssibidioies on be lntsiueheu it a gace nw lress. it cahlr 1950 io pas fmbdisreu it fridnsnfrilad cagaqite, atu is lntsiueheu nte nw ore wihso ahoildes fmbdisreu nt ore onfil nw fhnghaccitg a lncfmoeh wnh fdayitg lress, atu msitg a lncfmoeh on sndve ore gace.ris fhnless wnh ravitg ore lncfmoeh ueliue nt prilr cnve on cake pas a citicaj fhnleumhe, baseu nt at evadmaoint wmtloint nw a givet lress fnsioint. srattnt gave a hnmgr ejacfde nw at evadmaoint wmtloint it prilr ore vadme nw ore bdalk fnsioint pas smbohaloeu whnc orao nw ore prioe fnsioint. caoehiad pas lnmtoeu allnhuitg on ore msmad lress fiele hedaoive vadme (1 fnito wnh a fapt, 3 fnitos wnh a ktigro nh bisrnf, 5 fnitos wnh a hnnk, atu 9 fnitos wnh a zmeet). re lntsiueheu snce fnsiointad walonhs, smbohaloitg ½ fnito wnh ealr unmbdeu fapt, balkpahu fapt, atu isndaoeu fapt; cnbidioy pas itlnhfnhaoeu by auuitg 0.1 fnito wnh ealr degad cnve avaidabde.\n",
      "\n",
      "\n",
      "=== srattnt's cajic ===\n",
      "srattnt wnhcmdaoeu a vehsint nw kehlkrnwws' fhitlifde as \"ore etecy ktnps ore sysoec\". it oris wnhc io is ktnpt as \"srattnt's cajic\".\n",
      "\n",
      "\n",
      "== lnccecnhaoints ==\n",
      "\n",
      "\n",
      "=== srattnt letoetahy ===\n",
      "\n",
      "ore srattnt letoetahy, 2016, cahkeu ore diwe atu itwdmetle nw ldamue edpnnu srattnt nt ore rmtuheuor attivehsahy nw ris bihor nt afhid 30, 1916. io pas itsfiheu it faho by ore adat omhitg yeah. at au rnl lncciooee nw ore ieee itwnhcaoint orenhy snlieoy itldmuitg lrhisoita whagnmdi, hüuigeh mhbatke, cilredde ewwhns, dav vahsrtey atu sehgin vehuú, lnnhuitaoeu pnhdupiue evetos. ore itioiaoive pas attnmtleu it ore risonhy fated ao ore 2015 ieee itwnhcaoint orenhy pnhksrnf xehmsadec atu ore ieee itwnhcaoint orenhy snlieoy tepsdeooeh.a ueoaideu disoitg nw lntwihceu evetos pas avaidabde nt ore pebsioe nw ore ieee itwnhcaoint orenhy snlieoy.snce nw ore fdatteu aloivioies itldmueu:\n",
      "\n",
      "bedd dabs rnsoeu ore wihso srattnt lntwehetle nt ore wmomhe nw ore itwnhcaoint age nt afhid 28–29, 2016, it cmhhay ridd, tep xehsey, on ledebhaoe ldamue srattnt atu ore lntoitmeu icfalo nw ris degaly nt snlieoy. ore eveto itldmues keytnoe sfeelres by gdnbad dmcitahies atu visintahies nw ore itwnhcaoint age prn pidd ejfdnhe ore icfalo nw itwnhcaoint orenhy nt snlieoy atu nmh uigioad wmomhe, itwnhcad helnddeloints, atu deauitg oelrtilad fhesetoaoints nt smbsezmeto hedaoeu pnhk it noreh aheas smlr as binitwnhcaoils, elntncil sysoecs, atu snliad teopnhks. orehe is adsn a somueto lncfeoioint\n",
      "bedd dabs damtlreu a peb ejribio nt afhid 30, 2016, lrhntilditg srattnt's rihitg ao bedd dabs (mtueh at tuhl lntohalo pior ms gnvehtceto), ris smbsezmeto pnhk orehe whnc 1942 orhnmgr 1957, atu ueoaids nw caorecaoils uefahoceto. ore ejribio adsn uisfdayeu bins nw lnddeagmes atu catagehs umhitg ris oetmhe, as pedd as nhigitad vehsints nw snce nw ore oelrtilad cecnhatua prilr smbsezmetody belace pedd ktnpt it fmbdisreu wnhc.\n",
      "ore hefmbdil nw caleuntia is fdattitg a lnccecnhaoive soacf. a msfs lnccecnhaoive soacf is beitg fhnfnseu, pior at aloive feoioint.\n",
      "a unlmcetoahy nt ldamue srattnt atu nt ore icfalo nw itwnhcaoint orenhy, ore bio fdayeh, is beitg fhnumleu by sehgin vehuú atu cahk devitsnt.\n",
      "a ohats-aodatoil ledebhaoint nw bnor genhge bnnde's biletoetahy atu ldamue srattnt's letoetahy orao is beitg deu by mtivehsioy lnddege lnhk atu ore cassalrmseoos itsoiomoe nw oelrtndngy. a wihso eveto pas a pnhksrnf it lnhk, pret bnnde ceeos srattnt, atu pidd lntoitme pior ejribios ao ore bnsont cmsemc nw slietle atu ao ore cio cmsemc.\n",
      "caty nhgatiqaoints ahnmtu ore pnhdu ahe rnduitg nbsehvatle evetos, itldmuitg ore bnsont cmsemc nw slietle, ore reitq-tijunhw cmsemc, ore itsoiomoe wnh auvatleu somuy, oelrtislre mtivehsioäo behdit, mtivehsioy nw snmor amsohadia (mtisa), mtilacf (mtivehsiuaue esoaumad ue lacfitas), mtivehsioy nw onhnton, lritese mtivehsioy nw rntg kntg, laihn mtivehsioy, oedelnc fahisoelr, taointad oelrtilad mtivehsioy nw aorets, ituiat itsoiomoe nw slietle, ituiat itsoiomoe nw oelrtndngy bncbay, ituiat itsoiomoe nw oelrtndngy katfmh, tatyatg oelrtndngilad mtivehsioy nw sitgafnhe, mtivehsioy nw cahydatu, mtivehsioy nw idditnis ao lrilagn, élnde fndyoelrtizme weuehade ue damsatte, ore fettsydvatia soaoe mtivehsioy (fett soaoe), mtivehsioy nw ladiwnhtia dns atgedes, cassalrmseoos itsoiomoe nw oelrtndngy, lrntgzitg mtivehsioy nw fnsos atu oedelnccmtilaoints, atu mtivehsioy nw idditnis ao mhbata-lracfaigt.\n",
      "a dngn orao affeahs nt oris fage pas lhnpusnmhleu nt lhnpusfhitg.\n",
      "ore caor etlnmtoehs fhesetoaoint nw cay 4, 2016, ao ore taointad cmsemc nw caorecaoils it tep ynhk, oiodeu savitg wale: itwnhcaoint ohilks wnh dnve atu diwe, wnlmseu nt srattnt's pnhk it itwnhcaoint orenhy. a viuen helnhuitg atu noreh caoehiad ahe avaidabde.\n",
      "\n",
      "\n",
      "== apahus atu rntnhs diso ==\n",
      "ore ldamue e. srattnt apahu pas esoabdisreu it ris rntnh; re pas adsn ios wihso helifieto, it 1972.\n",
      "\n",
      "\n",
      "== sedeloeu pnhks ==\n",
      "ldamue e. srattnt: a sycbndil atadysis nw heday atu spiolritg lihlmios, casoeh's oresis, cio, 1937.\n",
      "ldamue e. srattnt: \"a caorecaoilad orenhy nw lnccmtilaoint\", bedd sysoec oelrtilad xnmhtad, vnd. 27, ff. 379–423, 623–656, 1948 (absohalo).\n",
      "ldamue e. srattnt atu pahhet peaveh: ore caorecaoilad orenhy nw lnccmtilaoint. ore mtivehsioy nw idditnis fhess, mhbata, idditnis, 1949. isbt 0-252-72548-4\n",
      "\n",
      "\n",
      "== see adsn ==\n",
      "\n",
      "\n",
      "== hewehetles ==\n",
      "\n",
      "\n",
      "== wmhoreh heauitg ==\n",
      "heortakahat fmdikknntaoom — ehil p. peissoeit: caorpnhdu binghafry nw srattnt, ldamue edpnnu (1916–2001) srattnt, ldamue edpnnu (1916-2001) -- whnc ehil peissoeit's pnhdu nw slietoiwil binghafry\n",
      "ldamue e. srattnt: fhnghaccitg a lncfmoeh wnh fdayitg lress, fridnsnfrilad cagaqite, seh.7, vnd. 41, tn. 314, cahlr 1950. (avaidabde ntdite mtueh ejoehtad ditks bednp)\n",
      "uaviu devy: lncfmoeh gacescatsrif: edecetos nw itoeddigeto gace uesigt, sicnt & slrmsoeh, 1983. isbt 0-671-49532-1\n",
      "cituedd, uaviu a., \"amoncaoint's witeso rnmh: bedd dabs atu amoncaoil lntohnd it pnhdu pah ii\", ieee lntohnd sysoecs, uelecbeh 1995, ff. 72–80.\n",
      "uaviu cituedd, xéhôce segad, sdava gehnviolr, \"whnc lnccmtilaoints etgiteehitg on lnccmtilaoints slietle: lybehteoils atu itwnhcaoint orenhy it ore mtioeu soaoes, whatle, atu ore snvieo mtint\" it padkeh, cahk (eu.), slietle atu iuendngy: a lncfahaoive risonhy, hnmodeuge, dntunt, 2003, ff. 66–95.\n",
      "fnmtusonte, piddiac, wnhomte's wnhcmda, ridd & patg, 2005, isbt 978-0-8090-4599-0\n",
      "gdeilk, xaces, ore itwnhcaoint: a risonhy, a orenhy, a wdnnu, fatorent, 2011, isbt 978-0-375-42372-7\n",
      "xiccy snti atu hnb gnnucat, a citu ao fday: rnp ldamue srattnt itvetoeu ore itwnhcaoint age, sicnt atu slrmsoeh, 2017, isbt 978-1476766683\n",
      "tarit, famd x., ore dngiliat atu ore etgiteeh: rnp genhge bnnde atu ldamue srattnt lheaoe ore itwnhcaoint age, fhitleont mtivehsioy fhess, 2013, isbt 978-0691151007\n",
      "eveheoo c. hngehs,  ldamue srattnt's lhyfonghafry heseahlr umhitg pnhdu pah ii atu ore caorecaoilad orenhy nw lnccmtilaoint, 1994 fhnleeuitgs nw ieee itoehtaointad lahtarat lntwehetle nt selmhioy oelrtndngy, ff. 1–5, 1994. ldamue srattnt's lhyfonghafry heseahlr umhitg pnhdu pah ii atu ore caorecaoilad orenhy nw lnccmtilaoint\n",
      "\n",
      "\n",
      "== ejoehtad ditks ==\n",
      " ceuia hedaoeu on ldamue srattnt ao pikiceuia lnccntsgmiue on ore ldamue edpnnu srattnt fafehs ao ore dibhahy nw lntghess\n",
      "a fmbdil delomhe ledebhaoitg ldamue e. srattnt – sehgin vehum, itsoiomoe wnh auvatleu somuy nt ynmombe\n",
      "ldamue edpnnu srattnt (1916–2001) ao ore tnoiles nw ore acehilat caorecaoilad snlieoy\n"
     ]
    }
   ],
   "source": [
    "# Print decrypted plaintext and the key (shift)\n",
    "\"\"\" decoding_rule = {\n",
    "    'e': 'r',\n",
    "    't': 'e',\n",
    "    'a': 'y',\n",
    "    '': '',\n",
    "    '': '',\n",
    "    '': '',\n",
    "    '': '',\n",
    "    '': '',\n",
    "    '': '',\n",
    "    '': '',\n",
    "    '': '',\n",
    "    '': '',\n",
    "    '': '',\n",
    "    '': '',\n",
    "    '': '',\n",
    "    '': '',\n",
    "    '': '',\n",
    "    '': '',\n",
    "    '': '',\n",
    "    '': '',\n",
    "    '': '',\n",
    "    '': '',\n",
    "    '': '',\n",
    "    '': '',\n",
    "    '': '',\n",
    "    '': '',\n",
    "} \"\"\"\n",
    "\n",
    "print(decoding_rule)\n",
    "print(plain)"
   ]
  },
  {
   "attachments": {},
   "cell_type": "markdown",
   "metadata": {},
   "source": [
    "For example, in the first lines of the text, between parenthesis, we can find something which surely is a time period, defined by two distinct dates; from that we can gather many useful information:\n",
    "\n",
    "(ynvxh 30, 1916 – iravcyvo 24, 2001) could be decrypted as: (april 30, 1916 - february 24 - 2001)\n",
    "\n",
    "Encrypted letter -> English letter\n",
    "\n",
    "v -> r, i -> f, a -> b, c -> u, o -> y, x -> i, h -> l, n -> p\n",
    "\n",
    "This way I can continue untill I succeed in finding the complete key:\n",
    "\n",
    "axfsvynmo could be: biography\n",
    "\n",
    "m -> h, s -> g, f -> o\n",
    "\n",
    "tvonjfsvynmrv could be: cryptographer\n",
    "\n",
    "t -> c, j -> t\n",
    "\n",
    "e -> n\n",
    "\n",
    "b -> d\n",
    "\n",
    "d -> w\n",
    "\n",
    "w -> s\n",
    "\n",
    "q -> k\n",
    "\n",
    "p -> x\n",
    "\n",
    "z -> v\n",
    "\n",
    "u -> j"
   ]
  },
  {
   "cell_type": "code",
   "execution_count": 97,
   "metadata": {},
   "outputs": [
    {
     "name": "stdout",
     "output_type": "stream",
     "text": [
      "The key is given by the following dictionary: \n",
      "The keys represent the english letters, the values are the corresponding encrypted letters\n",
      "{'a': 'y', 'b': 'a', 'c': 't', 'd': 'b', 'e': 'r', 'f': 'i', 'g': 's', 'h': 'm', 'i': 'x', 'j': 'u', 'k': 'q', 'l': 'h', 'm': 'l', 'n': 'e', 'o': 'f', 'p': 'n', 'q': 'k', 'r': 'v', 's': 'w', 't': 'j', 'u': 'c', 'v': 'z', 'w': 'd', 'x': 'p', 'y': 'o', 'z': 'g'}\n",
      "claude elwood shannon (april 30, 1916 – february 24, 2001) was an american mathematician, electrical engineer, and cryptographer known as \"the father of information theory\". shannon is noted for having founded information theory with a landmark paper, \"a mathematical theory of communication\", which he published in 1948.\n",
      "he is also well known for founding digital circuit design theory in 1937, when—as a 21-year-old master's degree student at the massachusetts institute of technology (mit)—he wrote his thesis demonstrating that electrical applications of boolean algebra could construct any logical numerical relationship. shannon contributed to the field of cryptanalysis for national defense during world war ii, including his fundamental work on codebreaking and secure telecommunications.\n",
      "\n",
      "\n",
      "== biography ==\n",
      "\n",
      "\n",
      "=== childhood ===\n",
      "the shannon family lived in gaylord, michigan, and claude was born in a hospital in nearby petoskey. his father, claude sr. (1862–1934) was a businessman and for a while, a judge of probate in gaylord. his mother, mabel wolf shannon (1890–1945), was a language teacher, who also served as the principal of gaylord high school. claude sr. was a descendant of new jersey settlers, while mabel was a child of german immigrants.most of the first 16 years of shannon's life were spent in gaylord, where he attended public school, graduating from gaylord high school in 1932. shannon showed an inclination towards mechanical and electrical things. his best subjects were science and mathematics. at home he constructed such devices as models of planes, a radio-controlled model boat and a barbed-wire telegraph system to a friend's house a half-mile away. while growing up, he also worked as a messenger for the western union company.\n",
      "shannon's childhood hero was thomas edison, who he later learned was a distant cousin. both shannon and edison were descendants of john ogden (1609–1682), a colonial leader and an ancestor of many distinguished people.\n",
      "\n",
      "\n",
      "=== logic circuits ===\n",
      "in 1932, shannon entered the university of michigan, where he was introduced to the work of george boole. he graduated in 1936 with two bachelor's degrees: one in electrical engineering and the other in mathematics.\n",
      "in 1936, shannon began his graduate studies in electrical engineering at mit, where he worked on vannevar bush's differential analyqer, an early analog computer. while studying the complicated ad hoc circuits of this analyqer, shannon designed switching circuits based on boole's concepts. in 1937, he wrote his master's degree thesis, a symbolic analysis of relay and switching circuits. a paper from this thesis was published in 1938. in this work, shannon proved that his switching circuits could be used to simplify the arrangement of the electromechanical relays that were used then in telephone call routing switches. next, he expanded this concept, proving that these circuits could solve all problems that boolean algebra could solve. in the last chapter, he presented diagrams of several circuits, including a 4-bit full adder.using this property of electrical switches to implement logic is the fundamental concept that underlies all electronic digital computers. shannon's work became the foundation of digital circuit design, as it became widely known in the electrical engineering community during and after world war ii. the theoretical rigor of shannon's work superseded the ad hoc methods that had prevailed previously. howard gardner called shannon's thesis \"possibly the most important, and also the most noted, master's thesis of the century.\"shannon received his phd from mit in 1940. vannevar bush had suggested that shannon should work on his dissertation at the cold spring harbor laboratory, in order to develop a mathematical formulation for mendelian genetics. this research resulted in shannon's phd thesis, called an algebra for theoretical genetics.in 1940, shannon became a national research fellow at the institute for advanced study in princeton, new jersey. in princeton, shannon had the opportunity to discuss his ideas with influential scientists and mathematicians such as hermann weyl and john von neumann, and he also had occasional encounters with albert einstein and kurt gödel. shannon worked freely across disciplines, and this ability may have contributed to his later development of mathematical information theory.\n",
      "\n",
      "\n",
      "=== wartime research ===\n",
      "shannon then joined bell labs to work on fire-control systems and cryptography during world war ii, under a contract with section d-2 (control systems section) of the national defense research committee (ndrc).\n",
      "shannon is credited with the invention of signal-flow graphs, in 1942. he discovered the topological gain formula while investigating the functional operation of an analog computer.for two months early in 1943, shannon came into contact with the leading british mathematician alan turing. turing had been posted to washington to share with the u.s. navy's cryptanalytic service the methods used by the british government code and cypher school at bletchley park to break the ciphers used by the kriegsmarine u-boats in the north atlantic ocean. he was also interested in the encipherment of speech and to this end spent time at bell labs. shannon and turing met at teatime in the cafeteria. turing showed shannon his 1936 paper that defined what is now known as the \"universal turing machine\". this impressed shannon, as many of its ideas complemented his own.\n",
      "in 1945, as the war was coming to an end, the ndrc was issuing a summary of technical reports as a last step prior to its eventual closing down. inside the volume on fire control, a special essay titled data smoothing and prediction in fire-control systems, coauthored by shannon, ralph beebe blackman, and hendrik wade bode, formally treated the problem of smoothing the data in fire-control by analogy with \"the problem of separating a signal from interfering noise in communications systems.\" in other words, it modeled the problem in terms of data and signal processing and thus heralded the coming of the information age.\n",
      "shannon's work on cryptography was even more closely related to his later publications on communication theory. at the close of the war, he prepared a classified memorandum for bell telephone labs entitled \"a mathematical theory of cryptography\", dated september 1945. a declassified version of this paper was published in 1949 as \"communication theory of secrecy systems\" in the bell system technical journal. this paper incorporated many of the concepts and mathematical formulations that also appeared in his a mathematical theory of communication. shannon said that his wartime insights into communication theory and cryptography developed simultaneously and that \"they were so close together you couldn’t separate them\". in a footnote near the beginning of the classified report, shannon announced his intention to \"develop these results … in a forthcoming memorandum on the transmission of information.\"while he was at bell labs, shannon proved that the cryptographic one-time pad is unbreakable in his classified research that was later published in october 1949. he also proved that any unbreakable system must have essentially the same characteristics as the one-time pad: the key must be truly random, as large as the plaintext, never reused in whole or part, and be kept secret.\n",
      "\n",
      "\n",
      "=== information theory ===\n",
      "in 1948, the promised memorandum appeared as \"a mathematical theory of communication\", an article in two parts in the july and october issues of the bell system technical journal. this work focuses on the problem of how best to encode the information a sender wants to transmit. in this fundamental work, he used tools in probability theory, developed by norbert wiener, which were in their nascent stages of being applied to communication theory at that time. shannon developed information entropy as a measure of the information content in a message, which is a measure of uncertainty reduced by the message, while essentially inventing the field of information theory. in 1949 claude shannon and robert fano devised a systematic way to assign code words based on probabilities of blocks. this technizue, known as shannon–fano coding, was first proposed in the 1948 article.\n",
      "the book, co-authored with warren weaver, the mathematical theory of communication, reprints shannon's 1948 article and weaver's populariqation of it, which is accessible to the non-specialist. warren weaver pointed out that the word \"information\" in communication theory is not related to what you do say, but to what you could say. that is, information is a measure of one's freedom of choice when one selects a message. shannon's concepts were also populariqed, subject to his own proofreading, in john robinson pierce's symbols, signals, and noise.\n",
      "information theory's fundamental contribution to natural language processing and computational linguistics was further established in 1951, in his article \"prediction and entropy of printed english\", showing upper and lower bounds of entropy on the statistics of english – giving a statistical foundation to language analysis. in addition, he proved that treating whitespace as the 27th letter of the alphabet actually lowers uncertainty in written language, providing a clear zuantifiable link between cultural practice and probabilistic cognition.\n",
      "another notable paper published in 1949 is \"communication theory of secrecy systems\", a declassified version of his wartime work on the mathematical theory of cryptography, in which he proved that all theoretically unbreakable ciphers must have the same rezuirements as the one-time pad. he is also credited with the introduction of sampling theory, which is concerned with representing a continuous-time signal from a (uniform) discrete set of samples. this theory was essential in enabling telecommunications to move from analog to digital transmissions systems in the 1960s and later.\n",
      "he returned to mit to hold an endowed chair in 1956.\n",
      "\n",
      "\n",
      "=== teaching at mit ===\n",
      "in 1956 shannon joined the mit faculty to work in the research laboratory of electronics (rle). he continued to serve on the mit faculty until 1978.\n",
      "\n",
      "\n",
      "=== later life ===\n",
      "shannon developed alqheimer's disease and spent the last few years of his life in a nursing home; he died in 2001, survived by his wife, a son and daughter, and two granddaughters.\n",
      "\n",
      "\n",
      "=== hobbies and inventions ===\n",
      "\n",
      "outside of shannon's academic pursuits, he was interested in juggling, unicycling, and chess. he also invented many devices, including a roman numeral computer called throbac, juggling machines, and a flame-throwing trumpet. he built a device that could solve the rubik's cube puqqle.shannon designed the minivac 601, a digital computer trainer to teach business people about how computers functioned. it was sold by the scientific development corp starting in 1961.he is also considered the co-inventor of the first wearable computer along with edward o. thorp. the device was used to improve the odds when playing roulette.\n",
      "\n",
      "\n",
      "=== personal life ===\n",
      "shannon married norma levor, a wealthy, jewish, left-wing intellectual in january 1940. the marriage ended in divorce after about a year. levor later married ben barqman.shannon met his second wife betty shannon (née mary eliqabeth moore) when she was a numerical analyst at bell labs. they were married in 1949. betty assisted claude in building some of his most famous inventions.  they had three children.shannon was apolitical and an atheist.\n",
      "\n",
      "\n",
      "=== tributes ===\n",
      "there are six statues of shannon sculpted by eugene daub: one at the university of michigan; one at mit in the laboratory for information and decision systems; one in gaylord, michigan; one at the university of california, san diego; one at bell labs; and another at at&t shannon labs. after the breakup of the bell system, the part of bell labs that remained with at&t corporation was named shannon labs in his honor.\n",
      "according to neil sloane, an at&t fellow who co-edited shannon's large collection of papers in 1993, the perspective introduced by shannon's communication theory (now called information theory) is the foundation of the digital revolution, and every device containing a microprocessor or microcontroller is a conceptual descendant of shannon's publication in 1948: \"he's one of the great men of the century. without him, none of the things we know today would exist. the whole digital revolution started with him.\" the unit shannon is named after claude shannon.\n",
      "a mind at play, a biography of shannon written by jimmy soni and rob goodman, was published in 2017.on april 30, 2016 shannon was honored with a google doodle to celebrate his life on what would have been his 100th birthday.the bit player, a feature film about shannon directed by mark levinson premiered at the world science festival in 2019.  drawn from interviews conducted with shannon in his house in the 1980s, the film was released on amaqon prime in august 2020.\n",
      "\n",
      "\n",
      "== other work ==\n",
      "\n",
      "\n",
      "=== shannon's mouse ===\n",
      "\"theseus\", created in 1950, was a mechanical mouse controlled by an electromechanical relay circuit that enabled it to move around a labyrinth of 25 szuares. the maqe configuration was flexible and it could be modified arbitrarily by rearranging movable partitions. the mouse was designed to search through the corridors until it found the target. having travelled through the maqe, the mouse could then be placed anywhere it had been before, and because of its prior experience it could go directly to the target. if placed in unfamiliar territory, it was programmed to search until it reached a known location and then it would proceed to the target, adding the new knowledge to its memory and learning new behavior. shannon's mouse appears to have been the first artificial learning device of its kind.\n",
      "\n",
      "\n",
      "=== shannon's estimate for the complexity of chess ===\n",
      "\n",
      "in 1949 shannon completed a paper (published in march 1950) which estimates the game-tree complexity of chess, which is approximately 10120. this number is now often referred to as the \"shannon number\", and is still regarded today as an accurate estimate of the game's complexity. the number is often cited as one of the barriers to solving the game of chess using an exhaustive analysis (i.e. brute force analysis).\n",
      "\n",
      "\n",
      "=== shannon's computer chess program ===\n",
      "on march 9, 1949, shannon presented a paper called \"programming a computer for playing chess\". the paper was presented at the national institute for radio engineers convention in new york. he described how to program a computer to play chess based on position scoring and move selection. he proposed basic strategies for restricting the number of possibilities to be considered in a game of chess. in march 1950 it was published in philosophical magaqine, and is considered one of the first articles published on the topic of programming a computer for playing chess, and using a computer to solve the game.his process for having the computer decide on which move to make was a minimax procedure, based on an evaluation function of a given chess position. shannon gave a rough example of an evaluation function in which the value of the black position was subtracted from that of the white position. material was counted according to the usual chess piece relative value (1 point for a pawn, 3 points for a knight or bishop, 5 points for a rook, and 9 points for a zueen). he considered some positional factors, subtracting ½ point for each doubled pawn, backward pawn, and isolated pawn; mobility was incorporated by adding 0.1 point for each legal move available.\n",
      "\n",
      "\n",
      "=== shannon's maxim ===\n",
      "shannon formulated a version of kerckhoffs' principle as \"the enemy knows the system\". in this form it is known as \"shannon's maxim\".\n",
      "\n",
      "\n",
      "== commemorations ==\n",
      "\n",
      "\n",
      "=== shannon centenary ===\n",
      "\n",
      "the shannon centenary, 2016, marked the life and influence of claude elwood shannon on the hundredth anniversary of his birth on april 30, 1916. it was inspired in part by the alan turing year. an ad hoc committee of the ieee information theory society including christina fragouli, rüdiger urbanke, michelle effros, lav varshney and sergio verdú, coordinated worldwide events. the initiative was announced in the history panel at the 2015 ieee information theory workshop jerusalem and the ieee information theory society newsletter.a detailed listing of confirmed events was available on the website of the ieee information theory society.some of the planned activities included:\n",
      "\n",
      "bell labs hosted the first shannon conference on the future of the information age on april 28–29, 2016, in murray hill, new jersey, to celebrate claude shannon and the continued impact of his legacy on society. the event includes keynote speeches by global luminaries and visionaries of the information age who will explore the impact of information theory on society and our digital future, informal recollections, and leading technical presentations on subsezuent related work in other areas such as bioinformatics, economic systems, and social networks. there is also a student competition\n",
      "bell labs launched a web exhibit on april 30, 2016, chronicling shannon's hiring at bell labs (under an ndrc contract with us government), his subsezuent work there from 1942 through 1957, and details of mathematics department. the exhibit also displayed bios of colleagues and managers during his tenure, as well as original versions of some of the technical memoranda which subsezuently became well known in published form.\n",
      "the republic of macedonia is planning a commemorative stamp. a usps commemorative stamp is being proposed, with an active petition.\n",
      "a documentary on claude shannon and on the impact of information theory, the bit player, is being produced by sergio verdú and mark levinson.\n",
      "a trans-atlantic celebration of both george boole's bicentenary and claude shannon's centenary that is being led by university college cork and the massachusetts institute of technology. a first event was a workshop in cork, when boole meets shannon, and will continue with exhibits at the boston museum of science and at the mit museum.\n",
      "many organiqations around the world are holding observance events, including the boston museum of science, the heinq-nixdorf museum, the institute for advanced study, technische universität berlin, university of south australia (unisa), unicamp (universidade estadual de campinas), university of toronto, chinese university of hong kong, cairo university, telecom paristech, national technical university of athens, indian institute of science, indian institute of technology bombay, indian institute of technology kanpur, nanyang technological university of singapore, university of maryland, university of illinois at chicago, école polytechnizue federale de lausanne, the pennsylvania state university (penn state), university of california los angeles, massachusetts institute of technology, chongzing university of posts and telecommunications, and university of illinois at urbana-champaign.\n",
      "a logo that appears on this page was crowdsourced on crowdspring.\n",
      "the math encounters presentation of may 4, 2016, at the national museum of mathematics in new york, titled saving face: information tricks for love and life, focused on shannon's work in information theory. a video recording and other material are available.\n",
      "\n",
      "\n",
      "== awards and honors list ==\n",
      "the claude e. shannon award was established in his honor; he was also its first recipient, in 1972.\n",
      "\n",
      "\n",
      "== selected works ==\n",
      "claude e. shannon: a symbolic analysis of relay and switching circuits, master's thesis, mit, 1937.\n",
      "claude e. shannon: \"a mathematical theory of communication\", bell system technical journal, vol. 27, pp. 379–423, 623–656, 1948 (abstract).\n",
      "claude e. shannon and warren weaver: the mathematical theory of communication. the university of illinois press, urbana, illinois, 1949. isbn 0-252-72548-4\n",
      "\n",
      "\n",
      "== see also ==\n",
      "\n",
      "\n",
      "== references ==\n",
      "\n",
      "\n",
      "== further reading ==\n",
      "rethnakaran pulikkoonattu — eric w. weisstein: mathworld biography of shannon, claude elwood (1916–2001) shannon, claude elwood (1916-2001) -- from eric weisstein's world of scientific biography\n",
      "claude e. shannon: programming a computer for playing chess, philosophical magaqine, ser.7, vol. 41, no. 314, march 1950. (available online under external links below)\n",
      "david levy: computer gamesmanship: elements of intelligent game design, simon & schuster, 1983. isbn 0-671-49532-1\n",
      "mindell, david a., \"automation's finest hour: bell labs and automatic control in world war ii\", ieee control systems, december 1995, pp. 72–80.\n",
      "david mindell, jérôme segal, slava gerovitch, \"from communications engineering to communications science: cybernetics and information theory in the united states, france, and the soviet union\" in walker, mark (ed.), science and ideology: a comparative history, routledge, london, 2003, pp. 66–95.\n",
      "poundstone, william, fortune's formula, hill & wang, 2005, isbn 978-0-8090-4599-0\n",
      "gleick, james, the information: a history, a theory, a flood, pantheon, 2011, isbn 978-0-375-42372-7\n",
      "jimmy soni and rob goodman, a mind at play: how claude shannon invented the information age, simon and schuster, 2017, isbn 978-1476766683\n",
      "nahin, paul j., the logician and the engineer: how george boole and claude shannon create the information age, princeton university press, 2013, isbn 978-0691151007\n",
      "everett m. rogers,  claude shannon's cryptography research during world war ii and the mathematical theory of communication, 1994 proceedings of ieee international carnahan conference on security technology, pp. 1–5, 1994. claude shannon's cryptography research during world war ii and the mathematical theory of communication\n",
      "\n",
      "\n",
      "== external links ==\n",
      " media related to claude shannon at wikimedia commonsguide to the claude elwood shannon papers at the library of congress\n",
      "a public lecture celebrating claude e. shannon – sergio verdu, institute for advanced study on youtube\n",
      "claude elwood shannon (1916–2001) at the notices of the american mathematical society\n"
     ]
    }
   ],
   "source": [
    "# Print decrypted plaintext and the key (shift)\n",
    "decoding_rule = { \n",
    "    'a': 'y', \n",
    "    'b': 'a',\n",
    "    'c': 't',\n",
    "    'd': 'b',\n",
    "    'e': 'r',\n",
    "    'f': 'i',\n",
    "    'g': 's',\n",
    "    'h': 'm', \n",
    "    'i': 'x', \n",
    "    'j': 'u', \n",
    "    'k': 'q',\n",
    "    'l': 'h', \n",
    "    'm': 'l', \n",
    "    'n': 'e', \n",
    "    'o': 'f', \n",
    "    'p': 'n', \n",
    "    'q': 'k',\n",
    "    'r': 'v', \n",
    "    's': 'w', \n",
    "    't': 'j',\n",
    "    'u': 'c', \n",
    "    'v': 'z', \n",
    "    'w': 'd', \n",
    "    'x': 'p', \n",
    "    'y': 'o', \n",
    "    'z': 'g',\n",
    "}\n",
    "\n",
    "print(\"The key is given by the following dictionary: \\nThe keys represent the english letters, the values are the corresponding encrypted letters\")\n",
    "print(decoding_rule)\n",
    "\n",
    "plain = substitution_decoding(cipher, decoding_rule)\n",
    "print(plain)"
   ]
  },
  {
   "attachments": {},
   "cell_type": "markdown",
   "metadata": {},
   "source": [
    "### Bonus Task 1 - Performed with frequency analysis"
   ]
  },
  {
   "attachments": {},
   "cell_type": "markdown",
   "metadata": {},
   "source": [
    "To do this we can observe the letter distribution of the plain text given by each brute force attempt, and take the key of the most similar distribution."
   ]
  },
  {
   "cell_type": "code",
   "execution_count": 98,
   "metadata": {},
   "outputs": [
    {
     "name": "stdout",
     "output_type": "stream",
     "text": [
      "The key is: 14\n"
     ]
    }
   ],
   "source": [
    "# AUTHOMATIC ALGORITHM 1\n",
    "alphabet = generate_alphabet()\n",
    "distribution = tuple(alphabet_dict.values())\n",
    "rmse = 1000 # root mean squared error, initialized to a large number\n",
    "key1 = 0\n",
    "\n",
    "for number in range(len(alphabet)):\n",
    "    plain = caesar_decoding(cipher_ceasar, shift=number)\n",
    "    plain_distribution = freq_from_txt(plain)\n",
    "    \n",
    "    for element in plain_distribution.keys():\n",
    "        plain_distribution[element] = plain_distribution[element] * 100 # I prefer working with percentages\n",
    "\n",
    "    distribution_plain = tuple(plain_distribution.values())\n",
    "    squared_sum_error = 0\n",
    "    for i, value in enumerate(distribution):\n",
    "        squared_sum_error += (value - distribution_plain[i]) ** 2\n",
    "    err = math.sqrt(squared_sum_error / len(distribution))\n",
    "    if (err < rmse): # We want to keep the key associated to the smallest error\n",
    "        rmse = err\n",
    "        key1 = number\n",
    "\n",
    "print(\"The key is: \" + str(key1))"
   ]
  },
  {
   "attachments": {},
   "cell_type": "markdown",
   "metadata": {},
   "source": [
    "### Bonus Task 2 - Performed with the library PyEnchant"
   ]
  },
  {
   "attachments": {},
   "cell_type": "markdown",
   "metadata": {},
   "source": [
    "To perform this kind of check on the decryption we need a way to understand whether one word is actually an English word; there is an interesting Python library that can help: **PyEnchant**."
   ]
  },
  {
   "cell_type": "code",
   "execution_count": 99,
   "metadata": {},
   "outputs": [
    {
     "name": "stdout",
     "output_type": "stream",
     "text": [
      "The key is: 14\n"
     ]
    }
   ],
   "source": [
    "# AUTHOMATIC ALGORITHM 2\n",
    "alphabet = generate_alphabet()\n",
    "d = enchant.Dict(\"en_US\") # We take advantage of this great library, PyEnchant, which allows to check if a word is in a certain language or not\n",
    "key2 = 0\n",
    "\n",
    "for number in range(len(alphabet)):\n",
    "    word1 = \"\"\n",
    "    word2 = \"\"\n",
    "    word3 = \"\"\n",
    "    letter = True\n",
    "    word_n = 0\n",
    "    plain = caesar_decoding(cipher_ceasar, shift=number)\n",
    "\n",
    "    for character in plain:\n",
    "        if character not in string.ascii_lowercase: # We want to extract the first three words of the obtained plain text so, when we find a character that is not a letter, we change word, untill we get three of them\n",
    "            letter = False\n",
    "        elif (character in string.ascii_lowercase and letter == False):\n",
    "            letter = True\n",
    "            word_n += 1\n",
    "\n",
    "        if (word_n == 0 and letter):\n",
    "            word1 += character\n",
    "        if (word_n == 1 and letter):\n",
    "            word2 += character\n",
    "        if (word_n == 2 and letter):\n",
    "            word3 += character\n",
    "        if (word_n == 3 and not letter): # When we have the three words we are done\n",
    "            break\n",
    "\n",
    "    if (d.check(word1) and d.check(word2) and d.check(word3)): # We check if the extracter dectrypted words are actually English words, if not, we try the next key\n",
    "        break                                                  # I decided to use three words instead of just one to be more sure about the validity of the decryption\n",
    "\n",
    "key2 = number\n",
    "print(\"The key is: \" + str(key2))"
   ]
  }
 ],
 "metadata": {
  "kernelspec": {
   "display_name": "DataSecurity",
   "language": "python",
   "name": "python3"
  },
  "language_info": {
   "codemirror_mode": {
    "name": "ipython",
    "version": 3
   },
   "file_extension": ".py",
   "mimetype": "text/x-python",
   "name": "python",
   "nbconvert_exporter": "python",
   "pygments_lexer": "ipython3",
   "version": "3.10.9"
  },
  "orig_nbformat": 4
 },
 "nbformat": 4,
 "nbformat_minor": 2
}
